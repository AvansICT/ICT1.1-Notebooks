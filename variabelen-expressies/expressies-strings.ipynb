{
 "cells": [
  {
   "cell_type": "markdown",
   "metadata": {},
   "source": [
    "# Expressies met strings\n",
    "\n",
    "- Definieren van strings -> \"\", @\"verbatim\", $\"interpolation\", \"\"\"raw\"\"\"\n",
    "- +, length, substring, [], contains, tolowercase, touppercase, indexOf, lastIndexOf, padLeft, padRight, replace, trim\n",
    "- escapen van strings\n",
    "- string vs char\n",
    "- string vs String\n",
    "- split (is array voor nodig)"
   ]
  },
  {
   "cell_type": "code",
   "execution_count": null,
   "metadata": {
    "dotnet_interactive": {
     "language": "csharp"
    },
    "polyglot_notebook": {
     "kernelName": "csharp"
    }
   },
   "outputs": [],
   "source": [
    "string a = @\"\";"
   ]
  },
  {
   "cell_type": "markdown",
   "metadata": {},
   "source": [
    "## Opdracht 1\n",
    "\n",
    "Maak een programma dat de lengte van je naam teruggeeft:\n",
    "\n",
    "```\n",
    "Voer je naam in:\n",
    "De naam 'Ruud' is 4 letters lang\n",
    "```"
   ]
  },
  {
   "cell_type": "markdown",
   "metadata": {},
   "source": [
    "## Opdracht 2\n",
    "\n",
    "Maak een programma dat de lengte van een stuk tekst teruggeeft, waarbij spaties niet meegerekend zijn"
   ]
  },
  {
   "cell_type": "code",
   "execution_count": 1,
   "metadata": {
    "dotnet_interactive": {
     "language": "csharp"
    },
    "polyglot_notebook": {
     "kernelName": "csharp"
    }
   },
   "outputs": [],
   "source": [
    "string tekst = \"Lorem ipsum dolor sit amet, consectetur adipiscing elit. Mauris eleifend, eros nec hendrerit vulputate, nisl eros mollis mauris, sed bibendum tortor mauris ac nunc.\";\n",
    "\n",
    "//de lengte van de tekst is XXX"
   ]
  },
  {
   "cell_type": "markdown",
   "metadata": {},
   "source": [
    "## Opdracht 3\n",
    "Gegeven is de volgende data:\n",
    "- datum\n",
    "- meterstand\n",
    "- gasstand\n",
    "- teruglevering\n",
    "\n",
    "Gebruik een interpolated string om de deze variabelen netjes af te drukken  \n",
    "`\"Op [datum] was de meterstand [meterstand]kWh, was er [gasstand]m³ aan gas verbruikt en is er [terugleverling]kWh teruggeleverd\"`"
   ]
  },
  {
   "cell_type": "markdown",
   "metadata": {},
   "source": []
  }
 ],
 "metadata": {
  "kernelspec": {
   "display_name": ".NET (C#)",
   "language": "C#",
   "name": ".net-csharp"
  },
  "language_info": {
   "name": "polyglot-notebook"
  },
  "polyglot_notebook": {
   "kernelInfo": {
    "defaultKernelName": "csharp",
    "items": [
     {
      "aliases": [],
      "languageName": "csharp",
      "name": "csharp"
     }
    ]
   }
  }
 },
 "nbformat": 4,
 "nbformat_minor": 2
}
