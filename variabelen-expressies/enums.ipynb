{
 "cells": [
  {
   "cell_type": "markdown",
   "metadata": {},
   "source": [
    "# Enums\n",
    "\n",
    "Een enum (kort voor enumeratie) is een manier om een set van gerelateerde namen aan numerieke waarden te geven. Dit maakt je code leesbaarder en makkelijker te begrijpen. In plaats van te werken met getallen, kun je werken met namen die beschrijven wat die getallen betekenen.\n",
    "\n",
    "## Voorbeeld Analogie\n",
    "\n",
    "Stel je voor dat je een lijst hebt van de seizoenen in het jaar. In plaats van elk seizoen te representeren met een nummer (zoals 0 voor winter, 1 voor lente, enzovoort), kun je een enum gebruiken om de seizoenen van het jaar een naam te geven.\n",
    "\n",
    "## Voorbeeld in praktijk"
   ]
  },
  {
   "cell_type": "code",
   "execution_count": null,
   "metadata": {
    "dotnet_interactive": {
     "language": "csharp"
    },
    "polyglot_notebook": {
     "kernelName": "csharp"
    }
   },
   "outputs": [],
   "source": [
    "enum Seizoen {\n",
    "    Winter, // 0\n",
    "    Lente, // 1\n",
    "    Zomer, // 2\n",
    "    Herfst // 3 \n",
    "}"
   ]
  },
  {
   "cell_type": "markdown",
   "metadata": {},
   "source": [
    "In dit voorbeeld hebben we een ***enum*** gemaakt genaamd *'seizoenen'*, met de seizoenen als waarde. Standaard krijgen deze waarden de nummers 0 tot en met 6 toegewezen."
   ]
  },
  {
   "cell_type": "markdown",
   "metadata": {},
   "source": [
    "## Gebruik van een Enum\n",
    "Je kunt altijd een variabele het *enum* type meegeven en hem een ***enum*** waarde meegeven. Daarnaast kan je een *integer* omzetten naar een enum door gebruik te maken van **type-casting**."
   ]
  },
  {
   "cell_type": "code",
   "execution_count": 5,
   "metadata": {},
   "outputs": [
    {
     "name": "stdout",
     "output_type": "stream",
     "text": [
      "Lente\n",
      "0\n",
      "Winter\n"
     ]
    }
   ],
   "source": [
    "enum Seizoen {\n",
    "    Winter, // 0\n",
    "    Lente, // 1\n",
    "    Zomer, // 2\n",
    "    Herfst // 3 \n",
    "}\n",
    "\n",
    "Seizoen vandaag = Seizoen.Lente;\n",
    "Console.WriteLine(vandaag);\n",
    "\n",
    "int winter = 0;\n",
    "Console.WriteLine(winter); // output is 0\n",
    "\n",
    "// hier geven we C# aan dat we willen dat de int wordt veranderd in een Seizoen enum\n",
    "Seizoen winterInEnum = (Seizoen)winter;\n",
    "Console.WriteLine(winterInEnum) // print Winter\n",
    "\n",
    "\n"
   ]
  },
  {
   "cell_type": "markdown",
   "metadata": {},
   "source": [
    "## Opdracht\n",
    "\n",
    "Definieer 2 enums een voor de dagen in de week en een voor maaltijden.\n",
    "-- Geef daarna aan welke maaltijd je zo gaat nuttigen en op welke dag in de console zoals hierboven wordt gedaan.\n",
    "-- hierna ga je de **integer** waardes *3*(voor de dagen) en *2*(voor de maaltijden) type-casten naar een output."
   ]
  },
  {
   "cell_type": "code",
   "execution_count": null,
   "metadata": {},
   "outputs": [],
   "source": []
  }
 ],
 "metadata": {
  "kernelspec": {
   "display_name": ".NET (C#)",
   "language": "C#",
   "name": ".net-csharp"
  },
  "language_info": {
   "name": "polyglot-notebook"
  },
  "polyglot_notebook": {
   "kernelInfo": {
    "defaultKernelName": "csharp",
    "items": [
     {
      "aliases": [],
      "languageName": "csharp",
      "name": "csharp"
     }
    ]
   }
  }
 },
 "nbformat": 4,
 "nbformat_minor": 2
}
