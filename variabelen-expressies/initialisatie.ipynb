{
 "cells": [
  {
   "cell_type": "markdown",
   "metadata": {},
   "source": [
    "```mermaid\n",
    "flowchart TD\n",
    "    A[Christmas] -->|Get money| B(Go shopping)\n",
    "    B --> C{Let me think}\n",
    "    C -->|One| D[Laptop]\n",
    "    C -->|Two| E[iPhone]\n",
    "    C -->|Three| F[fa:fa-car Car]\n",
    "```"
   ]
  },
  {
   "cell_type": "markdown",
   "metadata": {},
   "source": [
    "## Opdracht 1\n",
    "Schrijf een stuk code waarin je de variabele naam initialiseert op je naam, de variabele leeftijd op jouw leeftijd. Schrijf hierna je naam en leeftijd naar de console"
   ]
  },
  {
   "cell_type": "code",
   "execution_count": null,
   "metadata": {
    "dotnet_interactive": {
     "language": "csharp"
    },
    "polyglot_notebook": {
     "kernelName": "csharp"
    }
   },
   "outputs": [],
   "source": []
  },
  {
   "cell_type": "markdown",
   "metadata": {},
   "source": [
    "## Opdracht 2\n",
    "Gegeven is het volgende programma dat het volgende print\n",
    "```output\n",
    "CPU:\n",
    "i9\n",
    "Cores:\n",
    "24\n",
    "Snelheid\n",
    "6.0\n",
    "\n",
    "samengevat\n",
    "i9\n",
    "24\n",
    "6.0\n",
    "```\n",
    "\n",
    "Verander het programma zodat het de volgende output geeft, waarbij je zo min mogelijk aan de code veranderd\n",
    "\n",
    "```output\n",
    "CPU:\n",
    "i7\n",
    "Cores:\n",
    "12\n",
    "Snelheid\n",
    "4.0\n",
    "\n",
    "samengevat\n",
    "i7\n",
    "12\n",
    "4.0\n",
    "```"
   ]
  },
  {
   "cell_type": "code",
   "execution_count": null,
   "metadata": {
    "dotnet_interactive": {
     "language": "csharp"
    },
    "polyglot_notebook": {
     "kernelName": "csharp"
    },
    "tags": [
     "opdracht"
    ]
   },
   "outputs": [],
   "source": [
    "string cpu = \"i9\";\n",
    "int cores = 24;\n",
    "double snelheid = 6.0;\n",
    "\n",
    "Console.WriteLine(\"CPU:\");\n",
    "Console.WriteLine(cpu);\n",
    "Console.WriteLine(\"Cores:\");\n",
    "Console.WriteLine(cores);\n",
    "Console.WriteLine(\"Snelheid:\");\n",
    "Console.WriteLine(snelheid);\n",
    "\n",
    "Console.WriteLine();\n",
    "Console.WriteLine(\"samengevat\");\n",
    "Console.WriteLine(cpu);\n",
    "Console.WriteLine(cores);\n",
    "Console.WriteLine(snelheid);"
   ]
  }
 ],
 "metadata": {
  "kernelspec": {
   "display_name": ".NET (C#)",
   "language": "C#",
   "name": ".net-csharp"
  },
  "language_info": {
   "name": "polyglot-notebook"
  },
  "polyglot_notebook": {
   "kernelInfo": {
    "defaultKernelName": "csharp",
    "items": [
     {
      "aliases": [],
      "languageName": "csharp",
      "name": "csharp"
     }
    ]
   }
  }
 },
 "nbformat": 4,
 "nbformat_minor": 2
}
