{
 "cells": [
  {
   "cell_type": "markdown",
   "metadata": {},
   "source": [
    "# Wat zijn variabelen?\n",
    "\n",
    "Variabelen zijn benoemde geheugenlocaties in een computerprogramma die worden gebruikt om data op te slaan. Benoemd betekent hier dat ze een naam hebben, zodat je er gemakkelijk naar kunt refereren en kunt aangeven wat er in de variabele opgeslagen is. Je kunt ze zien als laatjes in een ladenkast met een labeltje erop waarin je verschillende soorten informatie kunt bewaren.\n",
    "\n",
    "Naast een naam heeft een variabele ook een datatype. Dit datatype geeft aan wat voor soort informatie opgeslagen wordt in deze variabele zoals een getal of een stukje tekst. Ieder datatype gebruikt een andere hoeveelheid RAM-geheugen in je computer, en dit type kun je dus niet zomaar veranderen. \n",
    "\n",
    "Een variabele heeft altijd een waarde, en zal dus ook moeten beginnen met een waarde. Dit noemen we de initiële waarde. Deze initiële waarde is optioneel bij het maken van een variabele, als je deze niet opgeeft zal je programma de standaardwaarde voor dit datatype gebruiken, maar het is een goede gewoonte om **altijd** een initiële waarde op te geven. Een variabeledefinitie ziet er dus als volgt uit:\n",
    "\n",
    "```\n",
    "datatype variabelenaam = standaardwaarde;\n",
    "```\n",
    "\n",
    "of concreet\n",
    "\n",
    "```cs\n",
    "int mooiGetal = 42;\n",
    "```\n",
    "\n",
    "Deze code zal dus een stukje geheugen reserveren om een getal op te slaan en hier meteen de waarde 42 in zetten. De naam van de variabele is mooiGetal, en de initiële waarde is 42"
   ]
  },
  {
   "cell_type": "markdown",
   "metadata": {},
   "source": [
    "## Opdracht 1\n",
    "Schrijf een stuk code waarin je de variabele naam initialiseert op je naam, de variabele leeftijd op jouw leeftijd. Schrijf hierna je naam en leeftijd naar de console"
   ]
  },
  {
   "cell_type": "code",
   "execution_count": null,
   "metadata": {
    "dotnet_interactive": {
     "language": "csharp"
    },
    "polyglot_notebook": {
     "kernelName": "csharp"
    }
   },
   "outputs": [],
   "source": []
  },
  {
   "cell_type": "markdown",
   "metadata": {},
   "source": [
    "## Opdracht 2\n",
    "Gegeven is het volgende programma dat het volgende print\n",
    "```output\n",
    "CPU:\n",
    "i9\n",
    "Cores:\n",
    "24\n",
    "Snelheid\n",
    "6.0\n",
    "\n",
    "samengevat\n",
    "i9\n",
    "24\n",
    "6.0\n",
    "```\n",
    "\n",
    "Verander het programma zodat het de volgende output geeft, waarbij je zo min mogelijk aan de code veranderd\n",
    "\n",
    "```output\n",
    "CPU:\n",
    "i7\n",
    "Cores:\n",
    "12\n",
    "Snelheid\n",
    "4.0\n",
    "\n",
    "samengevat\n",
    "i7\n",
    "12\n",
    "4.0\n",
    "```"
   ]
  },
  {
   "cell_type": "code",
   "execution_count": null,
   "metadata": {
    "dotnet_interactive": {
     "language": "csharp"
    },
    "polyglot_notebook": {
     "kernelName": "csharp"
    },
    "tags": [
     "opdracht"
    ]
   },
   "outputs": [],
   "source": [
    "string cpu = \"i9\";\n",
    "int cores = 24;\n",
    "double snelheid = 6.0;\n",
    "\n",
    "Console.WriteLine(\"CPU:\");\n",
    "Console.WriteLine(cpu);\n",
    "Console.WriteLine(\"Cores:\");\n",
    "Console.WriteLine(cores);\n",
    "Console.WriteLine(\"Snelheid:\");\n",
    "Console.WriteLine(snelheid);\n",
    "\n",
    "Console.WriteLine();\n",
    "Console.WriteLine(\"samengevat\");\n",
    "Console.WriteLine(cpu);\n",
    "Console.WriteLine(cores);\n",
    "Console.WriteLine(snelheid);"
   ]
  }
 ],
 "metadata": {
  "kernelspec": {
   "display_name": ".NET (C#)",
   "language": "C#",
   "name": ".net-csharp"
  },
  "language_info": {
   "name": "polyglot-notebook"
  },
  "polyglot_notebook": {
   "kernelInfo": {
    "defaultKernelName": "csharp",
    "items": [
     {
      "aliases": [],
      "languageName": "csharp",
      "name": "csharp"
     }
    ]
   }
  }
 },
 "nbformat": 4,
 "nbformat_minor": 2
}
