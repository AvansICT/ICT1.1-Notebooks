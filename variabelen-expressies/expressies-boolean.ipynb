{
 "cells": [
  {
   "cell_type": "markdown",
   "metadata": {},
   "source": [
    "# Expressies met booleans\n",
    "\n",
    "In C# worden de vergelijkingsexpressies >, <, == en != gebruikt om relaties tussen waarden te evalueren. Hier is een uitleg van wat elk van deze operators doet:\n",
    "\n",
    "- Groter dan (>)\n",
    "  - Betekenis: Controleert of de waarde aan de linkerzijde groter is dan de waarde aan de rechterzijde.\n",
    "  - Voorbeeld: `5 > 3` evalueert naar true omdat 5 groter is dan 3.\n",
    "- Kleiner dan (<)\n",
    "  - Betekenis: Controleert of de waarde aan de linkerzijde kleiner is dan de waarde aan de rechterzijde.\n",
    "  - Voorbeeld: `3 < 5` evalueert naar true omdat 3 kleiner is dan 5.\n",
    "- Gelijk aan (==)\n",
    "  - Betekenis: Controleert of de waarde aan de linkerzijde gelijk is aan de waarde aan de rechterzijde.\n",
    "  - Voorbeeld: `5 == 5` evalueert naar true omdat beide waarden gelijk zijn.\n",
    "- Niet gelijk aan (!=)\n",
    "  - Betekenis: Controleert of de waarde aan de linkerzijde niet gelijk is aan de waarde aan de rechterzijde.\n",
    "  - Voorbeeld: `5 != 3` evalueert naar true omdat 5 niet gelijk is aan 3.\n",
    "- Groter dan of gelijk aan (>=)\n",
    "  - Betekenis: Controleert of de waarde aan de linkerzijde groter dan of gelijk is aan de waarde aan de rechterzijde.\n",
    "  - Voorbeeld: `5 >= 5` evalueert naar true omdat 5 gelijk is aan 5. 6 >= 5 evalueert ook naar true omdat 6 groter is dan 5.\n",
    "- Kleiner dan of gelijk aan (<=)\n",
    "  - Betekenis: Controleert of de waarde aan de linkerzijde kleiner dan of gelijk is aan de waarde aan de rechterzijde.\n",
    "  - Voorbeeld: `5 <= 5` evalueert naar true omdat 5 gelijk is aan 5. 4 <= 5 evalueert ook naar true omdat 4 kleiner is dan 5.\n",
    "\n",
    "Deze vergelijkingsexpressies kun je dus in een if-statement gebruiken om beslissingen te maken, en code alleen uit te voren als aan een conditie is voldaan\n",
    "\n",
    "```csharp\n",
    "if(age >= 18)\n",
    "{\n",
    "  Console.WriteLine(\"Je bent 18 jaar of ouder\");\n",
    "}\n",
    "```"
   ]
  },
  {
   "cell_type": "markdown",
   "metadata": {},
   "source": [
    "## opdracht 1\n",
    "Geef aan of het vriest"
   ]
  },
  {
   "cell_type": "code",
   "execution_count": 2,
   "metadata": {
    "dotnet_interactive": {
     "language": "csharp"
    },
    "polyglot_notebook": {
     "kernelName": "csharp"
    }
   },
   "outputs": [
    {
     "name": "stdout",
     "output_type": "stream",
     "text": [
      "False\r\n"
     ]
    }
   ],
   "source": [
    "float temperatuur = 12.5f;\n",
    "bool vriest = temperatuur < 0;\n",
    "Console.WriteLine(vriest);"
   ]
  },
  {
   "cell_type": "markdown",
   "metadata": {},
   "source": [
    "## Opdracht 2\n",
    "Maak een programma dat aangeeft of een getal even of oneven is\n"
   ]
  },
  {
   "cell_type": "code",
   "execution_count": null,
   "metadata": {
    "dotnet_interactive": {
     "language": "csharp"
    },
    "polyglot_notebook": {
     "kernelName": "csharp"
    }
   },
   "outputs": [
    {
     "name": "stdout",
     "output_type": "stream",
     "text": [
      "False\r\n"
     ]
    }
   ],
   "source": [
    "int getal = 1337;\n",
    "bool isEven = getal % 2 == 0;\n",
    "Console.WriteLine(isEven);"
   ]
  },
  {
   "cell_type": "markdown",
   "metadata": {},
   "source": [
    "## Opdracht 3\n",
    "Maak een programma dat aangeeft of iemand ouder is dan 18, gebaseerd op zijn geboortejaar"
   ]
  },
  {
   "cell_type": "code",
   "execution_count": 3,
   "metadata": {
    "dotnet_interactive": {
     "language": "csharp"
    },
    "polyglot_notebook": {
     "kernelName": "csharp"
    }
   },
   "outputs": [
    {
     "name": "stdout",
     "output_type": "stream",
     "text": [
      "True\r\n"
     ]
    }
   ],
   "source": [
    "int geboorteJaar = 1990;\n",
    "int huidigeJaar = 2024;\n",
    "bool isOuder = (huidigeJaar - geboorteJaar) >= 18;\n",
    "Console.WriteLine(isOuder);"
   ]
  }
 ],
 "metadata": {
  "kernelspec": {
   "display_name": ".NET (C#)",
   "language": "C#",
   "name": ".net-csharp"
  },
  "language_info": {
   "name": "polyglot-notebook"
  },
  "polyglot_notebook": {
   "kernelInfo": {
    "defaultKernelName": "csharp",
    "items": [
     {
      "aliases": [],
      "languageName": "csharp",
      "name": "csharp"
     }
    ]
   }
  }
 },
 "nbformat": 4,
 "nbformat_minor": 2
}
