{
 "cells": [
  {
   "cell_type": "markdown",
   "metadata": {},
   "source": [
    "# Scopes\n",
    "\n",
    "Een *scope* geeft een omgeving (context) waarin een variable toegankelijk is.\n",
    "Buiten de grenzen van de *scope* kan een variable die gedefineerd is in die *scope* niet gelezen of geschreven worden.\n",
    "\n",
    "Het begin van een *scope*  in C#, wordt aangeduid met een accolade '{', en het einde met een '}'.\n",
    "\n",
    "Bijvoorbeeld het volgende stuk code:"
   ]
  },
  {
   "cell_type": "markdown",
   "metadata": {},
   "source": [
    "```csharp\n",
    "string program_str = \"programma\";\n",
    "\n",
    "public void Display()\n",
    "{\n",
    "    string function_str = \"Display() aangeroepen\";\n",
    "\n",
    "    Console.WriteLine(\"function_str= \" + function_str);\n",
    "    Console.WriteLine(\"program_str= \" + program_str);\n",
    "\n",
    "    // Nu gaan we 'program_str' aanpassen.\n",
    "    program_str = \"aangepast in Display()\";a\n",
    "}\n",
    "\n",
    "// Wat is de waarde van 'program_str'?\n",
    "Console.WriteLine(program_str);\n",
    "\n",
    "Display();\n",
    "\n",
    "// 'function_str' is gedefineerd in de \"method\"-scope van 'Display()', dus niet toegangelijk hier.\n",
    "Console.WriteLine(\"function_str= \" + function_str); // <-- Compiler error!\n",
    "\n",
    "// Wat is de waarde van 'program_str' nu?\n",
    "Console.WriteLine(\"program_str= \" + program_str);\n",
    "```"
   ]
  },
  {
   "cell_type": "markdown",
   "metadata": {},
   "source": [
    "Dit stuk code is niet juist en dat zal de compiler dan ook duidelijk aangeven met een foutmelding.\n",
    "De methode *Display()* defineert namelijk een eigen *scope*. Alleen tijdens het uitvoeren van de methode zal *function_str* bekend en toegangelijk zijn.\n"
   ]
  },
  {
   "cell_type": "markdown",
   "metadata": {},
   "source": [
    "In sommige gevallen wordt een *scope*-variable, niet gedefineert tussen de accolades! Bijvoorbeeld bij een *for*-lus:"
   ]
  },
  {
   "cell_type": "code",
   "execution_count": null,
   "metadata": {},
   "outputs": [],
   "source": [
    "for (int x = 0; x < 4; x++)\n",
    "{\n",
    "    Console.WriteLine(\"x= \"+ x);\n",
    "}"
   ]
  },
  {
   "cell_type": "markdown",
   "metadata": {},
   "source": [
    "## Opdrachten"
   ]
  }
 ],
 "metadata": {
  "kernelspec": {
   "display_name": ".NET (C#)",
   "language": "C#",
   "name": ".net-csharp"
  },
  "language_info": {
   "name": "polyglot-notebook"
  },
  "polyglot_notebook": {
   "kernelInfo": {
    "defaultKernelName": "csharp",
    "items": [
     {
      "aliases": [],
      "languageName": "csharp",
      "name": "csharp"
     }
    ]
   }
  }
 },
 "nbformat": 4,
 "nbformat_minor": 2
}
