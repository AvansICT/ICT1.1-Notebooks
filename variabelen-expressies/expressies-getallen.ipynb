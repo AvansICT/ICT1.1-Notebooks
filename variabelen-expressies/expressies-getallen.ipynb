{
 "cells": [
  {
   "cell_type": "markdown",
   "metadata": {},
   "source": [
    "## expressies met getallen\n",
    "\n",
    "Verschillende operatoren\n",
    "+, -, /, *, %, shorthand ++ +=, \n",
    "\n",
    "veranderen van variabelen! <-- moet dit een eigen onderwerpje zijn?"
   ]
  },
  {
   "cell_type": "markdown",
   "metadata": {},
   "source": [
    "## Opdracht 1\n",
    "Maak een programma dat berekend hoeveel seconden er in een jaar zitten. Je kunt er vanuit gaan dat een jaar 365 dagen heeft. Bereken het aantal en sla dit op in de variabele `aantalSeconden`\n"
   ]
  },
  {
   "cell_type": "code",
   "execution_count": 1,
   "metadata": {
    "dotnet_interactive": {
     "language": "csharp"
    },
    "polyglot_notebook": {
     "kernelName": "csharp"
    }
   },
   "outputs": [],
   "source": [
    "int dagenInEenJaar = 365;\n",
    "int aantalSeconden = 0;\n",
    "Console.WriteLine(aantalSeconden);"
   ]
  },
  {
   "cell_type": "markdown",
   "metadata": {},
   "source": [
    "## opdracht 2\n",
    "Floating point output (wiskundige notatie)"
   ]
  },
  {
   "cell_type": "code",
   "execution_count": 8,
   "metadata": {
    "dotnet_interactive": {
     "language": "csharp"
    },
    "polyglot_notebook": {
     "kernelName": "csharp"
    }
   },
   "outputs": [
    {
     "name": "stdout",
     "output_type": "stream",
     "text": [
      "10000\n",
      "10000000\n",
      "1E+10\n",
      "1E+13\n"
     ]
    }
   ],
   "source": [
    "float a = 10;\n",
    "a = a * 1000;\n",
    "Console.WriteLine(a);\n",
    "a = a * 1000;\n",
    "Console.WriteLine(a);\n",
    "a = a * 1000;\n",
    "Console.WriteLine(a);\n",
    "a = a * 1000;\n",
    "Console.WriteLine(a);"
   ]
  }
 ],
 "metadata": {
  "kernelspec": {
   "display_name": ".NET (C#)",
   "language": "C#",
   "name": ".net-csharp"
  },
  "language_info": {
   "name": "polyglot-notebook"
  },
  "polyglot_notebook": {
   "kernelInfo": {
    "defaultKernelName": "csharp",
    "items": [
     {
      "aliases": [],
      "languageName": "csharp",
      "name": "csharp"
     }
    ]
   }
  }
 },
 "nbformat": 4,
 "nbformat_minor": 2
}
