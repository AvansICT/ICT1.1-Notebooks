{
 "cells": [
  {
   "cell_type": "markdown",
   "metadata": {},
   "source": [
    "# Uitwerkingen"
   ]
  },
  {
   "cell_type": "markdown",
   "metadata": {},
   "source": [
    "## Opdracht 1\n",
    "\n",
    "Schrijf een algoritme dat de gebruiker om een naam vraagt, en dat hierna de naam in de console schrijft."
   ]
  },
  {
   "cell_type": "code",
   "execution_count": null,
   "metadata": {
    "dotnet_interactive": {
     "language": "csharp"
    },
    "polyglot_notebook": {
     "kernelName": "csharp"
    }
   },
   "outputs": [],
   "source": [
    "using Microsoft.DotNet.Interactive;\n",
    "\n",
    "string naam = await Kernel.GetInputAsync(\"Wat is uw naam?\");\n",
    "Console.WriteLine(\"Hallo \" + naam);"
   ]
  },
  {
   "cell_type": "markdown",
   "metadata": {},
   "source": [
    "## Opdracht 2\n",
    "\n",
    "Schrijf een algoritme dat de gebruiker om een jaartal vraagt, en dat hierna de leeftijd in de console schrijft. Je kunt van het huidige jaartal uitgaan, en dat de persoon al jarig is geweest."
   ]
  },
  {
   "cell_type": "code",
   "execution_count": null,
   "metadata": {
    "dotnet_interactive": {
     "language": "csharp"
    },
    "polyglot_notebook": {
     "kernelName": "csharp"
    }
   },
   "outputs": [],
   "source": [
    "using Microsoft.DotNet.Interactive;\n",
    "\n",
    "string geboorteJaar = await Kernel.GetInputAsync(\"Wat is uw geboortejaar?\");\n",
    "int geboorteJaarAlsGetal = Convert.ToInt32(geboorteJaar);\n",
    "Console.WriteLine(\"Uw leeftijd is \" + (2024 - geboorteJaarAlsGetal));"
   ]
  }
 ],
 "metadata": {
  "kernelspec": {
   "display_name": ".NET (C#)",
   "language": "C#",
   "name": ".net-csharp"
  },
  "language_info": {
   "name": "polyglot-notebook"
  },
  "polyglot_notebook": {
   "kernelInfo": {
    "defaultKernelName": "csharp",
    "items": [
     {
      "aliases": [],
      "languageName": "csharp",
      "name": "csharp"
     }
    ]
   }
  }
 },
 "nbformat": 4,
 "nbformat_minor": 2
}
