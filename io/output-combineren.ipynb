{
 "cells": [
  {
   "cell_type": "markdown",
   "metadata": {},
   "source": [
    "## Combineren van regels\n",
    "\n",
    "Naast `Console.WriteLine` die een regel afdrukt, is er ook `Console.Write`. Met `Console.Write` kan een stukje tekst in de console gezet worden, maar blijft de cursor op dezelfde regel. Dit kun je gebruiken om dynamisch meerdere dingen op een regel te zetten, wat niet altijd kan met `Console.WriteLine`. Dit is vooral handig als er herhalingen gebruikt worden\n",
    "\n",
    "```csharp\n",
    "for(int i = 0; i < 10; i++)\n",
    "{\n",
    "    Console.Write(\"*\");\n",
    "}\n",
    "Console.WriteLine();\n",
    "```\n",
    "Dit stukje code zal 10 sterretjes op de console zetten, en daarna een nieuwe regel hier achter zetten  \n",
    "  \n",
    "Daarnaast is dit ook handig om te gebruiken bij gebruikersinvoer voor een console-applicatie\n",
    "\n",
    "```csharp\n",
    "Console.Write(\"Voer je naam in: \");\n",
    "string naam = Console.ReadLine();\n",
    "```\n",
    "hierbij zal de invoer achter de regel 'Voer je naam in' komen"
   ]
  },
  {
   "cell_type": "markdown",
   "metadata": {},
   "source": [
    "# Opdrachten"
   ]
  },
  {
   "cell_type": "markdown",
   "metadata": {},
   "source": [
    "## Opdracht 1"
   ]
  },
  {
   "cell_type": "code",
   "execution_count": null,
   "metadata": {
    "dotnet_interactive": {
     "language": "csharp"
    },
    "polyglot_notebook": {
     "kernelName": "csharp"
    }
   },
   "outputs": [],
   "source": []
  }
 ],
 "metadata": {
  "kernelspec": {
   "display_name": ".NET (C#)",
   "language": "C#",
   "name": ".net-csharp"
  },
  "language_info": {
   "name": "polyglot-notebook"
  },
  "polyglot_notebook": {
   "kernelInfo": {
    "defaultKernelName": "csharp",
    "items": [
     {
      "aliases": [],
      "languageName": "csharp",
      "name": "csharp"
     }
    ]
   }
  }
 },
 "nbformat": 4,
 "nbformat_minor": 2
}
