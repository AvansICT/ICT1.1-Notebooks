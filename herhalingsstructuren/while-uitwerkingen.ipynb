{
 "cells": [
  {
   "cell_type": "markdown",
   "metadata": {},
   "source": [
    "# Uitwerkingen"
   ]
  },
  {
   "cell_type": "markdown",
   "metadata": {},
   "source": [
    "## Opdracht 1\n",
    "\n",
    "Schrijf een algoritme om het aantal stappen dat nodig is om het [vermoeden van collatz](https://nl.wikipedia.org/wiki/Vermoeden_van_Collatz) van een getal uit te printen. Het vermoeden van collatz bestaat uit 2 regels die op een getal toegepast kunnen worden.\n",
    "- Als n even is, deel het door 2\n",
    "- Als n oneven is, vermenigvuldig het met 3 en tel er 1 bij op\n",
    "Het vermoeden van Collatz is dat ieder getal n, waarbij n een geheel getal is groter dan 1, bij herhaling van deze stappen op 1 uitkomt. \n",
    "\n",
    "Schrijf een algoritme dat berekent hoeveel stappen er nodig zijn om naar 1 te komen vanaf het getal 27"
   ]
  },
  {
   "cell_type": "code",
   "execution_count": null,
   "metadata": {},
   "outputs": [],
   "source": []
  },
  {
   "cell_type": "markdown",
   "metadata": {},
   "source": [
    "## Opdracht 2\n",
    "\n",
    "Voor 2 getallen kan de grootste gemeenschappelijke deler (ggd) berekend worden. De ggd is het grootste getal waar deze twee getallen door gedeeld kunnen worden.\n",
    "- De ggd van 15 en 20 is 5\n",
    "- De ggd van 10 en 3 is 1\n",
    "- De ggd van 100 en 20 is 20\n",
    "\n",
    "Om de ggd te berekenen kun je het [Algoritme van Euclides](https://nl.wikipedia.org/wiki/Algoritme_van_Euclides) gebruiken\n",
    "\n",
    "Ontwerp een algoritme in een flowchart en maak de code voor dit algoritme"
   ]
  },
  {
   "cell_type": "code",
   "execution_count": null,
   "metadata": {
    "dotnet_interactive": {
     "language": "csharp"
    },
    "polyglot_notebook": {
     "kernelName": "csharp"
    }
   },
   "outputs": [],
   "source": []
  },
  {
   "cell_type": "markdown",
   "metadata": {},
   "source": [
    "## Opdracht 3\n",
    "Bereken de som van de cijfers in een getal. Hiermee bedoelen we: je hebt een getal met meerdere cijfers, bijvoorbeeld 12345. Jouw taak is dan om de indviduele cijfers bij elkaar op te tellen en daar de som van te berekenen. In dit voorbeeld is de uitkomst 15. Schrijf hier een algortime voor."
   ]
  },
  {
   "cell_type": "code",
   "execution_count": null,
   "metadata": {
    "dotnet_interactive": {
     "language": "csharp"
    },
    "polyglot_notebook": {
     "kernelName": "csharp"
    }
   },
   "outputs": [],
   "source": []
  },
  {
   "cell_type": "markdown",
   "metadata": {},
   "source": [
    "## Opdracht 4\n",
    "Hoger / Lager: jij neemt een getal onder de 100 in je hoofd, en het algoritme gaat in zo min mogelijk stappen raden wat je nummer is"
   ]
  },
  {
   "cell_type": "code",
   "execution_count": null,
   "metadata": {
    "dotnet_interactive": {
     "language": "csharp"
    },
    "polyglot_notebook": {
     "kernelName": "csharp"
    }
   },
   "outputs": [],
   "source": []
  }
 ],
 "metadata": {
  "kernelspec": {
   "display_name": ".NET (C#)",
   "language": "C#",
   "name": ".net-csharp"
  },
  "language_info": {
   "name": "polyglot-notebook"
  },
  "polyglot_notebook": {
   "kernelInfo": {
    "defaultKernelName": "csharp",
    "items": [
     {
      "aliases": [],
      "languageName": "csharp",
      "name": "csharp"
     }
    ]
   }
  }
 },
 "nbformat": 4,
 "nbformat_minor": 2
}
