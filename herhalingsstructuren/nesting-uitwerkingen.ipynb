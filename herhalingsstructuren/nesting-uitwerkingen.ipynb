{
 "cells": [
  {
   "cell_type": "markdown",
   "metadata": {},
   "source": [
    "# Uitwerkingen"
   ]
  },
  {
   "cell_type": "markdown",
   "metadata": {},
   "source": [
    "## Opdracht 1\n",
    "We hebben de uitkomst van het spel Vier op een Rij ontvangen in de vorm van een multidimensionale array. Het is de bedoeling dat je met behulp van geneste for-loops het aantal rode en gele muntjes in de console weergeeft."
   ]
  },
  {
   "cell_type": "code",
   "execution_count": 4,
   "metadata": {
    "dotnet_interactive": {
     "language": "csharp"
    },
    "polyglot_notebook": {
     "kernelName": "csharp"
    }
   },
   "outputs": [],
   "source": [
    "string[,] grid = new string[5, 5]\n",
    "        {\n",
    "            { \"\", \"red\", \"yellow\", \"\", \"\" },\n",
    "            { \"\", \"\", \"yellow\", \"\", \"\" },\n",
    "            { \"\", \"\", \"red\", \"yellow\", \"\" },\n",
    "            { \"\", \"red\", \"yellow\", \"yellow\", \"red\" },\n",
    "            { \"yellow\", \"red\", \"red\", \"yellow\", \"yellow\" }\n",
    "        };\n",
    "\n",
    "// jouw code"
   ]
  },
  {
   "cell_type": "markdown",
   "metadata": {},
   "source": [
    "## Opdracht 2\n",
    "Zou je doormiddel van nested for-loops ook de winnaar kunnen bepalen?"
   ]
  },
  {
   "cell_type": "code",
   "execution_count": 5,
   "metadata": {
    "dotnet_interactive": {
     "language": "csharp"
    },
    "polyglot_notebook": {
     "kernelName": "csharp"
    }
   },
   "outputs": [],
   "source": [
    "string[,] grid = new string[5, 5]\n",
    "        {\n",
    "            { \"\", \"red\", \"yellow\", \"\", \"\" },\n",
    "            { \"\", \"\", \"yellow\", \"\", \"\" },\n",
    "            { \"\", \"\", \"red\", \"yellow\", \"\" },\n",
    "            { \"\", \"red\", \"yellow\", \"yellow\", \"red\" },\n",
    "            { \"yellow\", \"red\", \"red\", \"yellow\", \"yellow\" }\n",
    "        };\n",
    "//code voor de winnaar"
   ]
  }
 ],
 "metadata": {
  "kernelspec": {
   "display_name": ".NET (C#)",
   "language": "C#",
   "name": ".net-csharp"
  },
  "language_info": {
   "name": "polyglot-notebook"
  },
  "polyglot_notebook": {
   "kernelInfo": {
    "defaultKernelName": "csharp",
    "items": [
     {
      "aliases": [],
      "languageName": "csharp",
      "name": "csharp"
     }
    ]
   }
  }
 },
 "nbformat": 4,
 "nbformat_minor": 2
}
