{
 "cells": [
  {
   "cell_type": "markdown",
   "metadata": {},
   "source": [
    "# Nesting\n",
    "In C# kun je for en foreach loops nesting. Wat inhoud dat je binnen een lus een andere lus kan plaatsen. Hetzelfde geld voor een foreach loop. Hierdoor kun je over meerdere dimensies heen loopen\n",
    "\n",
    "Neem bijvoorbeeld aan dat je de metingen van gas, water en elektra per uur worden opgeslagen in een multi dimensie lijst: "
   ]
  },
  {
   "cell_type": "code",
   "execution_count": null,
   "metadata": {
    "dotnet_interactive": {
     "language": "csharp"
    },
    "polyglot_notebook": {
     "kernelName": "csharp"
    }
   },
   "outputs": [],
   "source": [
    "int[,] Usage = new int[,] { { 10, 1, 3 }, { 1, 4, 5 }, { 10, 1, 3 }, { 2, 8, 3 }, { 1, 1, 0 }, { 1, 1, 9 }, { 10, 18, 3 } };\n",
    "\n",
    "// bij get length pakken we de lengte van de eerste dimensie\n",
    "for (int i = 0; i < Usage.GetLength(0); i++)\n",
    "{\n",
    "    // bij deze GetLength pakken we de lengte van de tweede dimensie\n",
    "    for (int j = 0; j < Usage.GetLength(1); j++)\n",
    "    {\n",
    "        switch (j)\n",
    "        {\n",
    "            case 0:\n",
    "                Console.WriteLine($\"hour {i + 1} electricity usage: {Usage[i, j]}\");\n",
    "                break;\n",
    "            case 1:\n",
    "                Console.WriteLine($\"hour {i + 1}  electricity gas: {Usage[i, j]}\");\n",
    "                break;\n",
    "            case 2:\n",
    "                Console.WriteLine($\"hour {i + 1} electricity water: {Usage[i, j]}\");\n",
    "                break;\n",
    "        }\n",
    "    }\n",
    "}"
   ]
  },
  {
   "cell_type": "markdown",
   "metadata": {},
   "source": [
    "Je kunt zien dat het nesten van loops snel onleesbaar wordt. Plus zijn meerdere nested lussen moeilijk onderhoudbaar. Dat gebeurd vooral als de context mist. \n",
    "Het is daarom meestel beter om nested loops in hun eigen methodes te zetten. Hierdoor kun je de leesbaarheid verbeteren. Maar kom je ook meer bij een single responsibility."
   ]
  },
  {
   "cell_type": "code",
   "execution_count": null,
   "metadata": {
    "dotnet_interactive": {
     "language": "csharp"
    },
    "polyglot_notebook": {
     "kernelName": "csharp"
    }
   },
   "outputs": [],
   "source": [
    "int[,] Usage = new int[,] { { 10, 1, 3 }, { 1, 4, 5 }, { 10, 1, 3 }, { 2, 8, 3 }, { 1, 1, 0 }, { 1, 1, 9 }, { 10, 18, 3 } };\n",
    "\n",
    "// bij get length pakken we de lengte van de eerste dimensie\n",
    "for (int i = 0; i < Usage.GetLength(0); i++)\n",
    "{\n",
    "    PrintUsage(i, Usage);\n",
    "}\n",
    "\n",
    "void PrintUsage(int i, int[,] usage)\n",
    "{\n",
    "    // bij deze GetLength pakken we de lengte van de tweede dimensie\n",
    "    for (int j = 0; j < usage.GetLength(1); j++)\n",
    "    {\n",
    "        switch (j)\n",
    "        {\n",
    "            case 0:\n",
    "                Console.WriteLine($\"hour {i + 1} electricity usage: {usage[i, j]}\");\n",
    "                break;\n",
    "            case 1:\n",
    "                Console.WriteLine($\"hour {i + 1}  electricity gas: {usage[i, j]}\");\n",
    "                break;\n",
    "            case 2:\n",
    "                Console.WriteLine($\"hour {i + 1} electricity water: {usage[i, j]}\");\n",
    "                break;\n",
    "        }\n",
    "    }\n",
    "}"
   ]
  }
 ],
 "metadata": {
  "kernelspec": {
   "display_name": ".NET (C#)",
   "language": "C#",
   "name": ".net-csharp"
  },
  "language_info": {
   "name": "polyglot-notebook"
  },
  "polyglot_notebook": {
   "kernelInfo": {
    "defaultKernelName": "csharp",
    "items": [
     {
      "aliases": [],
      "languageName": "csharp",
      "name": "csharp"
     }
    ]
   }
  }
 },
 "nbformat": 4,
 "nbformat_minor": 2
}
