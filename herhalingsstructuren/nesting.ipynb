{
 "cells": [
  {
   "cell_type": "markdown",
   "metadata": {},
   "source": [
    "# Nesting\n",
    "In C# kun je for en while nesten. Wat inhoud dat je binnen een for-loop in een andere for-loop kan plaatsen. Hetzelfde geld voor een while. Hierdoor kun je over meerdere dimensies heen lussen. bijvoorbeeld het doorlopen van een schaakbord(rijen en kollomen).\n",
    "\n",
    "Neem bijvoorbeeld aan dat je de metingen van gas, water en elektra per uur worden opgeslagen in een multi dimensie lijst: "
   ]
  },
  {
   "cell_type": "code",
   "execution_count": 3,
   "metadata": {
    "dotnet_interactive": {
     "language": "csharp"
    },
    "polyglot_notebook": {
     "kernelName": "csharp"
    }
   },
   "outputs": [
    {
     "name": "stdout",
     "output_type": "stream",
     "text": [
      "hour 1 electricity usage: 10\n",
      "hour 1  electricity gas: 1\n",
      "hour 1 electricity water: 3\n",
      "hour 2 electricity usage: 1\n",
      "hour 2  electricity gas: 4\n",
      "hour 2 electricity water: 5\n",
      "hour 3 electricity usage: 10\n",
      "hour 3  electricity gas: 1\n",
      "hour 3 electricity water: 3\n",
      "hour 4 electricity usage: 2\n",
      "hour 4  electricity gas: 8\n",
      "hour 4 electricity water: 3\n",
      "hour 5 electricity usage: 1\n",
      "hour 5  electricity gas: 1\n",
      "hour 5 electricity water: 0\n",
      "hour 6 electricity usage: 1\n",
      "hour 6  electricity gas: 1\n",
      "hour 6 electricity water: 9\n",
      "hour 7 electricity usage: 10\n",
      "hour 7  electricity gas: 18\n",
      "hour 7 electricity water: 3\n"
     ]
    }
   ],
   "source": [
    "int[,] Usage = new int[,] { { 10, 1, 3 }, { 1, 4, 5 }, { 10, 1, 3 }, { 2, 8, 3 }, { 1, 1, 0 }, { 1, 1, 9 }, { 10, 18, 3 } };\n",
    "\n",
    "// bij get length pakken we de lengte van de eerste dimensie\n",
    "for (int i = 0; i < Usage.GetLength(0); i++)\n",
    "{\n",
    "    // bij deze GetLength pakken we de lengte van de tweede dimensie\n",
    "    for (int j = 0; j < Usage.GetLength(1); j++)\n",
    "    {\n",
    "        switch (j)\n",
    "        {\n",
    "            case 0:\n",
    "                Console.WriteLine($\"hour {i + 1} electricity usage: {Usage[i, j]}\");\n",
    "                break;\n",
    "            case 1:\n",
    "                Console.WriteLine($\"hour {i + 1}  electricity gas: {Usage[i, j]}\");\n",
    "                break;\n",
    "            case 2:\n",
    "                Console.WriteLine($\"hour {i + 1} electricity water: {Usage[i, j]}\");\n",
    "                break;\n",
    "        }\n",
    "    }\n",
    "}"
   ]
  },
  {
   "cell_type": "markdown",
   "metadata": {},
   "source": [
    "Het nadeel van for-loops nesten is dat de leesbaarheid snel afneemt. Maar ook de onderhoudbaarheid, doordat iets extra toevoegen weer een loop vereist, maar ook kan betekenen dat je ze verkeerde loop verwijderd. ook voor debuggen is het omslachtig, want het aantal stappen om te doorlopen groeit per loop exponentieel.\n",
    "Een voobeeld van de nadelen is hieronder."
   ]
  },
  {
   "cell_type": "code",
   "execution_count": 3,
   "metadata": {},
   "outputs": [],
   "source": [
    "\n",
    "        // Define the dimensions\n",
    "        int[] years = { 2020, 2021, 2022 };\n",
    "        string[] countries = { \"USA\", \"China\", \"India\" };\n",
    "        string[] energyTypes = { \"Solar\", \"Wind\", \"Hydro\", \"Fossil\" };\n",
    "        string[] consumptionCategories = { \"Residential\", \"Commercial\", \"Industrial\", \"Transportation\" };\n",
    "\n",
    "        // 4-dimensional nested for loop\n",
    "        for (int i = 0; i < years.Length; i++)\n",
    "        {\n",
    "            for (int j = 0; j < countries.Length; j++)\n",
    "            {\n",
    "                for (int k = 0; k < energyTypes.Length; k++)\n",
    "                {\n",
    "                    for (int l = 0; l < consumptionCategories.Length; l++)\n",
    "                    {\n",
    "                        //Console.Write($\"Year: {years[i]}, Country: {countries[j]}, Energy Type: {energyTypes[k]}, Category: {consumptionCategories[l]}\");\n",
    "                        \n",
    "                    }\n",
    "                }\n",
    "            }\n",
    "        }"
   ]
  },
  {
   "cell_type": "markdown",
   "metadata": {},
   "source": [
    "Het is daarom meestel beter om nested loops in hun eigen methodes te zetten. Hierdoor kun je de leesbaarheid verbeteren. Maar kom je ook meer bij een single responsibility."
   ]
  },
  {
   "cell_type": "code",
   "execution_count": null,
   "metadata": {
    "dotnet_interactive": {
     "language": "csharp"
    },
    "polyglot_notebook": {
     "kernelName": "csharp"
    }
   },
   "outputs": [],
   "source": [
    "int[,] Usage = new int[,] { { 10, 1, 3 }, { 1, 4, 5 }, { 10, 1, 3 }, { 2, 8, 3 }, { 1, 1, 0 }, { 1, 1, 9 }, { 10, 18, 3 } };\n",
    "\n",
    "// bij get length pakken we de lengte van de eerste dimensie\n",
    "for (int i = 0; i < Usage.GetLength(0); i++)\n",
    "{\n",
    "    PrintUsage(i, Usage);\n",
    "}\n",
    "\n",
    "void PrintUsage(int i, int[,] usage)\n",
    "{\n",
    "    // bij deze GetLength pakken we de lengte van de tweede dimensie\n",
    "    for (int j = 0; j < usage.GetLength(1); j++)\n",
    "    {\n",
    "        switch (j)\n",
    "        {\n",
    "            case 0:\n",
    "                Console.WriteLine($\"hour {i + 1} electricity usage: {usage[i, j]}\");\n",
    "                break;\n",
    "            case 1:\n",
    "                Console.WriteLine($\"hour {i + 1}  electricity gas: {usage[i, j]}\");\n",
    "                break;\n",
    "            case 2:\n",
    "                Console.WriteLine($\"hour {i + 1} electricity water: {usage[i, j]}\");\n",
    "                break;\n",
    "        }\n",
    "    }\n",
    "}"
   ]
  },
  {
   "cell_type": "markdown",
   "metadata": {},
   "source": [
    "## Opdrachten\n",
    "\n",
    "We hebben het spel 4 op een rij. Hierbij word je een array gegeven. Het is de bedoeling dat jij doormiddel van een nesting. Het aantal rode en gele muntjes telt."
   ]
  },
  {
   "cell_type": "code",
   "execution_count": null,
   "metadata": {},
   "outputs": [],
   "source": [
    "string[,] grid = new string[5, 5]\n",
    "        {\n",
    "            { \"\", \"red\", \"yellow\", \"\", \"\" },\n",
    "            { \"\", \"\", \"yellow\", \"\", \"\" },\n",
    "            { \"\", \"\", \"red\", \"yellow\", \"\" },\n",
    "            { \"\", \"red\", \"yellow\", \"yellow\", \"red\" },\n",
    "            { \"yellow\", \"red\", \"red\", \"yellow\", \"yellow\" }\n",
    "        };\n",
    "\n",
    "//code om te tellen"
   ]
  },
  {
   "cell_type": "markdown",
   "metadata": {},
   "source": [
    "## Verdieping\n",
    "Zou je doormiddel van nested for-loops ook de winnaar kunnen bepalen?"
   ]
  },
  {
   "cell_type": "code",
   "execution_count": null,
   "metadata": {},
   "outputs": [],
   "source": [
    "string[,] grid = new string[5, 5]\n",
    "        {\n",
    "            { \"\", \"red\", \"yellow\", \"\", \"\" },\n",
    "            { \"\", \"\", \"yellow\", \"\", \"\" },\n",
    "            { \"\", \"\", \"red\", \"yellow\", \"\" },\n",
    "            { \"\", \"red\", \"yellow\", \"yellow\", \"red\" },\n",
    "            { \"yellow\", \"red\", \"red\", \"yellow\", \"yellow\" }\n",
    "        };\n",
    "//code voor de winnaar"
   ]
  }
 ],
 "metadata": {
  "kernelspec": {
   "display_name": ".NET (C#)",
   "language": "C#",
   "name": ".net-csharp"
  },
  "language_info": {
   "name": "polyglot-notebook"
  },
  "polyglot_notebook": {
   "kernelInfo": {
    "defaultKernelName": "csharp",
    "items": [
     {
      "aliases": [],
      "languageName": "csharp",
      "name": "csharp"
     }
    ]
   }
  }
 },
 "nbformat": 4,
 "nbformat_minor": 2
}
