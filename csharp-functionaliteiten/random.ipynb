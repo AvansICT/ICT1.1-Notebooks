{
 "cells": [
  {
   "cell_type": "markdown",
   "metadata": {},
   "source": [
    "# Random\n",
    "\n",
    "- Random.Shared methoden\n",
    "  - Next\n",
    "  - NextDouble\n",
    "  - Shuffle\n",
    "- Seed"
   ]
  },
  {
   "cell_type": "markdown",
   "metadata": {
    "dotnet_interactive": {
     "language": "csharp"
    },
    "polyglot_notebook": {
     "kernelName": "csharp"
    }
   },
   "source": [
    "# Random\n",
    "\n",
    "Soms heb je de nood om in je code een willekeurige waarde te genereren. Bijvoorbeeld om een willekeurige vraag uit een lijst van vragen te kunnen kiezen, of een willekeurige naam uit een lijst van namen te kiezen. Onderstaand leer je hoe je dit kan doen in C#."
   ]
  },
  {
   "cell_type": "code",
   "execution_count": 4,
   "metadata": {},
   "outputs": [
    {
     "ename": "Unhandled Exception",
     "evalue": "(1,20): error CS1002: ; expected",
     "output_type": "error",
     "traceback": [
      "(1,20): error CS1002: ; expected"
     ]
    }
   ],
   "source": [
    "using System.Random"
   ]
  },
  {
   "cell_type": "code",
   "execution_count": null,
   "metadata": {},
   "outputs": [],
   "source": []
  }
 ],
 "metadata": {
  "kernelspec": {
   "display_name": ".NET (C#)",
   "language": "C#",
   "name": ".net-csharp"
  },
  "language_info": {
   "file_extension": ".cs",
   "mimetype": "text/x-csharp",
   "name": "C#",
   "pygments_lexer": "csharp",
   "version": "8.0"
  },
  "polyglot_notebook": {
   "kernelInfo": {
    "defaultKernelName": "csharp",
    "items": [
     {
      "aliases": [],
      "languageName": "csharp",
      "name": "csharp"
     }
    ]
   }
  }
 },
 "nbformat": 4,
 "nbformat_minor": 2
}
