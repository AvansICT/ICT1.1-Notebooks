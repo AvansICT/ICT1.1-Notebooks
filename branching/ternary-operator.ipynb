{
 "cells": [
  {
   "cell_type": "markdown",
   "metadata": {},
   "source": [
    "# Ternary Operator\n",
    "Er is ook een kortere manier om een **if else** statement te schrijven. Dit wordt een **ternary operator** genoemd.\n",
    "\n",
    "Een **ternary operator** heeft de volgende structuur:\n",
    "```Conditie ? {expressie voor true} : {expressie voor false}```\n",
    "\n",
    "De volgende *if-statement*:"
   ]
  },
  {
   "cell_type": "code",
   "execution_count": 30,
   "metadata": {
    "dotnet_interactive": {
     "language": "csharp"
    },
    "polyglot_notebook": {
     "kernelName": "csharp"
    }
   },
   "outputs": [
    {
     "name": "stdout",
     "output_type": "stream",
     "text": [
      "Er zijn te weinig spelers\r\n"
     ]
    }
   ],
   "source": [
    "int aantalSpelers = 8;\n",
    "if(aantalSpelers < 100)\n",
    "{\n",
    " Console.WriteLine(\"Er zijn te weinig spelers\");\n",
    "} \n",
    "else\n",
    "{\n",
    "Console.WriteLine(\"We kunnen gaan starten\");\n",
    "}"
   ]
  },
  {
   "cell_type": "markdown",
   "metadata": {},
   "source": [
    "Kunnen we herschrijven naar:"
   ]
  },
  {
   "cell_type": "code",
   "execution_count": 31,
   "metadata": {},
   "outputs": [
    {
     "name": "stdout",
     "output_type": "stream",
     "text": [
      "Er zijn te weinig spelers\r\n"
     ]
    }
   ],
   "source": [
    "int aantalSpelers = 8;\n",
    "\n",
    "Console.WriteLine(aantalSpelers < 100 ? \"Er zijn te weinig spelers\" : \"We kunnen gaan starten\")"
   ]
  },
  {
   "cell_type": "markdown",
   "metadata": {},
   "source": [
    "\n",
    "\n",
    "## Voordelen\n",
    "Doormiddel van de *ternary operator* kunnen we meerdere regels code vervangen voor 1 regel. Een voorbeeld is hierboven weergegeven. Het kan soms ook de leesbaarheid van de code verbeteren. Een voorbeeld:\n"
   ]
  },
  {
   "cell_type": "code",
   "execution_count": 32,
   "metadata": {},
   "outputs": [
    {
     "data": {
      "text/plain": [
       "Welkom student bij de hogeschool avans"
      ]
     },
     "metadata": {},
     "output_type": "display_data"
    }
   ],
   "source": [
    "string welkomstBericht;\n",
    "string rolType = \"student\";\n",
    "\n",
    "if(rolType == \"student\")\n",
    "{\n",
    "    welkomstBericht = \"Welkom student bij de hogeschool avans\";\n",
    "}\n",
    "else\n",
    "{\n",
    "    welkomstBericht = \"Welkom medewerker bij de hogeschool avans\";\n",
    "}\n",
    "\n",
    "// kan ook geschreven worden als\n",
    "\n",
    "welkomstBericht = rolType == \"student\" ?  \"Welkom student bij de hogeschool avans\" : \"Welkom medewerker bij de hogeschool avans\""
   ]
  },
  {
   "cell_type": "markdown",
   "metadata": {},
   "source": [
    "Hierbij zie je gelijk dat als het roltype student is wat het bericht wordt en wat het anders is.\n",
    "\n",
    "\n",
    "## Nadelen\n",
    "Je moet wel oppassen met overmatig gebruik van ternary operators! Het kan de leesbaarheid van je code negatief beinvloeden. Een voorbeeld van zoon situatie is als volgt:"
   ]
  },
  {
   "cell_type": "code",
   "execution_count": 33,
   "metadata": {},
   "outputs": [
    {
     "name": "stdout",
     "output_type": "stream",
     "text": [
      "Te groot voor deze attractie\n",
      "Te groot voor deze attractie\n"
     ]
    }
   ],
   "source": [
    "int lengte = 180;\n",
    "\n",
    "if(lengte < 60)\n",
    "{\n",
    "    Console.WriteLine(\"Te klein voor deze attractie\");\n",
    "}\n",
    "else if( lengte >= 180 )\n",
    "{\n",
    "    Console.WriteLine(\"Te groot voor deze attractie\");\n",
    "}\n",
    "else\n",
    "{\n",
    "    Console.WriteLine(\"Je mag in de attractie\");\n",
    "}\n",
    "\n",
    "// kan je herschrijven naar\n",
    "\n",
    "Console.WriteLine(lengte < 60 ? \"Te klein voor deze attractie\" : lengte >= 180 ? \"Te groot voor deze attractie\" : \"Je mag in de attractie\")\n",
    "\n"
   ]
  },
  {
   "cell_type": "markdown",
   "metadata": {},
   "source": [
    "In de *ternary operator* hierboven kun je al moeilijker in 1 oogopslag zien wat nou exact de structuur is of wat hij nou doet. \n",
    "\n",
    "##Aandachtspunten\n",
    "- Hou de *condities* en *expressies* compact\n",
    "  - voorbeeld van compact ```isZonnenPaneelAanHetLaden = zonsterkte > 3 ? true : false```\n",
    "- Geen complex *condities en expressies* gebruiken \n",
    "  - voorbeeld van complexe conditie ```csharp (lengte > 180 && lengte <= 60) || (leeftijd < 18 && leeftijd < 60 || gewicht < 70) ? expressie 1 : expressie 2```\n",
    "- alleen gebruiken ter vervanging van *if-statements*\n",
    "- Past de *ternary operator* niet in zijn geheel zichtbaar op het scherm dan is sowieso te complex\n",
    "- niet nesten van *ternary operators*\n",
    "\n",
    "##Opdracht\n",
    "Herschrijf de volgende if expressie gebruikmakend van de *ternary operator*"
   ]
  },
  {
   "cell_type": "code",
   "execution_count": 34,
   "metadata": {},
   "outputs": [
    {
     "name": "stdout",
     "output_type": "stream",
     "text": [
      "Je kunt meer zonnepanelen gebruiken\n",
      "het vriest niet\n"
     ]
    }
   ],
   "source": [
    "double verbruik = 12.5;\n",
    "double zonnepaneelOpbrengst = 10.2;\n",
    "if(verbruik < zonnepaneelOpbrengst)\n",
    "{\n",
    "    Console.WriteLine(\"Er zijn voldoende zonnepanelen\");\n",
    "}\n",
    "else\n",
    "{\n",
    "  Console.WriteLine(\"Je kunt meer zonnepanelen gebruiken\");\n",
    "}\n",
    "\n",
    "float temperatuur = 12.5f;\n",
    "if(temperatuur < 0)\n",
    "    Console.WriteLine(\"het vriest\");\n",
    "else\n",
    "    Console.WriteLine(\"het vriest niet\");\n"
   ]
  }
 ],
 "metadata": {
  "kernelspec": {
   "display_name": ".NET (C#)",
   "language": "C#",
   "name": ".net-csharp"
  },
  "language_info": {
   "name": "polyglot-notebook"
  },
  "polyglot_notebook": {
   "kernelInfo": {
    "defaultKernelName": "csharp",
    "items": [
     {
      "aliases": [],
      "languageName": "csharp",
      "name": "csharp"
     }
    ]
   }
  }
 },
 "nbformat": 4,
 "nbformat_minor": 2
}
