{
 "cells": [
  {
   "cell_type": "markdown",
   "metadata": {},
   "source": [
    "# If statements"
   ]
  },
  {
   "cell_type": "markdown",
   "metadata": {},
   "source": [
    "## Branching"
   ]
  },
  {
   "cell_type": "markdown",
   "metadata": {},
   "source": [
    "Dit is een stukje tekst"
   ]
  },
  {
   "cell_type": "markdown",
   "metadata": {},
   "source": [
    "## Lorum Ipum"
   ]
  },
  {
   "cell_type": "markdown",
   "metadata": {},
   "source": [
    "Lorem ipsum dolor sit amet, consectetur adipiscing elit. Proin quis enim ullamcorper risus lacinia consectetur at eget justo. Sed scelerisque bibendum orci, vel pulvinar lacus facilisis ac. Donec tortor elit, feugiat vel lectus vitae, vulputate posuere lectus. Nulla justo felis, cursus tincidunt quam auctor, gravida dapibus eros. Nulla facilisi. Vestibulum tristique, sapien nec tincidunt auctor, lacus dui rhoncus quam, quis aliquet orci est eget quam. Aliquam diam ipsum, efficitur nec hendrerit vitae, semper eu libero. Duis volutpat finibus erat in dictum. Sed venenatis blandit porttitor. Suspendisse potenti. Etiam tristique viverra lobortis. Donec ultrices ex ac nulla auctor maximus. Donec euismod velit tincidunt neque fringilla, et maximus mauris placerat. Duis fringilla ultrices consectetur.\n",
    "\n",
    "Pellentesque eget ipsum sit amet metus efficitur accumsan. Proin at tellus mi. Vestibulum blandit maximus tempor. Nullam interdum sem ac rhoncus convallis. Praesent sagittis varius nisl, eu elementum metus ultrices malesuada. Sed at aliquam nibh, a aliquam leo. Vivamus eu massa erat. Nulla placerat ullamcorper sapien, rutrum convallis ipsum vestibulum id. Sed nec felis eget ligula ullamcorper luctus. Pellentesque fermentum porttitor suscipit. In sit amet nisi eu purus convallis sodales. Sed ac ultricies velit. Aenean imperdiet urna dapibus elit imperdiet, sed ultricies nibh dignissim.\n",
    "\n",
    "Nullam nec semper felis. In suscipit convallis ex eget tempor. Nunc a lobortis erat. Nam consequat enim dolor, eget porta mauris ultrices vel. Aenean id tempus sem. Donec vitae augue accumsan nisl egestas consequat. Quisque eros est, consectetur sed ultricies vitae, facilisis et sapien. Donec aliquam ullamcorper nisl sed dignissim.\n",
    "\n",
    "Ut ut justo ac tellus convallis efficitur. Phasellus viverra congue varius. Donec eu efficitur turpis. Donec fringilla nunc maximus tincidunt fringilla. Praesent ac elit orci. Curabitur at commodo diam. Aenean consequat nulla et odio porttitor dignissim. Donec odio ligula, aliquam sed dui nec, hendrerit tincidunt diam. Cras tortor urna, auctor sit amet nibh ac, consectetur pellentesque nisi. In eu nunc neque. Morbi fermentum neque augue, ut vehicula justo lacinia eget. Aenean posuere quis dolor vel interdum. Praesent viverra, quam et pharetra tempor, massa enim molestie ipsum, et dapibus tellus nisi a mauris.\n",
    "\n",
    "Donec lacinia purus sit amet magna interdum, vitae sollicitudin nunc malesuada. Morbi tristique nisl vitae blandit bibendum. Curabitur a neque risus. Suspendisse porttitor et mi a cursus. Sed sem justo, scelerisque ac tellus sed, hendrerit posuere tortor. Praesent imperdiet magna ut vestibulum convallis. Aliquam pretium nibh vel libero gravida semper ut eget nulla. Nunc nisl arcu, ornare et dolor consectetur, bibendum commodo elit. Curabitur molestie cursus aliquet. Pellentesque quis tellus sed purus aliquam gravida. Integer purus metus, elementum sed dui vel, vulputate egestas mi. Pellentesque turpis orci, gravida sit amet augue in, iaculis lacinia quam. Sed accumsan velit nisi, quis euismod mauris pretium et. Suspendisse potenti. Vivamus risus tellus, tempor gravida risus id, lacinia ultricies elit."
   ]
  },
  {
   "cell_type": "code",
   "execution_count": 1,
   "metadata": {
    "dotnet_interactive": {
     "language": "csharp"
    },
    "polyglot_notebook": {
     "kernelName": "csharp"
    }
   },
   "outputs": [
    {
     "name": "stdout",
     "output_type": "stream",
     "text": [
      "6 is nog steeds groter dan 5\r\n"
     ]
    }
   ],
   "source": [
    "if(6 > 5)\n",
    "{\n",
    "    Console.WriteLine(\"6 is nog steeds groter dan 5\");\n",
    "}"
   ]
  }
 ],
 "metadata": {
  "kernelspec": {
   "display_name": ".NET (C#)",
   "language": "C#",
   "name": ".net-csharp"
  },
  "language_info": {
   "name": "polyglot-notebook"
  },
  "polyglot_notebook": {
   "kernelInfo": {
    "defaultKernelName": "csharp",
    "items": [
     {
      "aliases": [],
      "languageName": "csharp",
      "name": "csharp"
     }
    ]
   }
  }
 },
 "nbformat": 4,
 "nbformat_minor": 2
}
