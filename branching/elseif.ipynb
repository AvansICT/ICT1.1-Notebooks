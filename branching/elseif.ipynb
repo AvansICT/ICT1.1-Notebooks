{
 "cells": [
  {
   "cell_type": "markdown",
   "metadata": {},
   "source": [
    "## elseif\n",
    "\n",
    "- enkele else if\n",
    "- meerdere else ifs\n",
    "- else statement\n",
    "- niet in flowchart, maar worden nested ifs"
   ]
  },
  {
   "cell_type": "markdown",
   "metadata": {},
   "source": [
    "## Opdracht 1\n",
    "Cijfer bepalen\n",
    "\n",
    "Op een toets zijn 60 punten te behalen. De beoordeling is echter in letters (A is beste, F is slechtste). \n",
    "| punten | beoordeling |\n",
    "|--------|-------------|\n",
    "| 0-29   | F           |\n",
    "| 30-34  | E           |\n",
    "| 30-39  | D           |\n",
    "| 40-50  | C           |\n",
    "| 51-55  | B           |\n",
    "| 56-60  | A           |\n",
    "\n",
    "Schrijf een programma dat op basis van het aantal punten, de juiste beoordeling uitprint"
   ]
  },
  {
   "cell_type": "code",
   "execution_count": null,
   "metadata": {
    "dotnet_interactive": {
     "language": "csharp"
    },
    "polyglot_notebook": {
     "kernelName": "csharp"
    }
   },
   "outputs": [],
   "source": [
    "int punten = 55;\n",
    "\n",
    "Console.WriteLine(\"Je beoordeling is\")"
   ]
  },
  {
   "cell_type": "markdown",
   "metadata": {},
   "source": [
    "## Opdracht 2\n",
    "[fizz buzz](https://en.wikipedia.org/wiki/Fizz_buzz) is een spelletje om kinderen te leren delen. Schrijf een programma om voor een getal, volgens de regels van fizz buzz, de juiste term weer te geven. Herschrijf de opdracht uit het kopje if om de else te gebruiken"
   ]
  },
  {
   "cell_type": "code",
   "execution_count": null,
   "metadata": {
    "dotnet_interactive": {
     "language": "csharp"
    },
    "polyglot_notebook": {
     "kernelName": "csharp"
    }
   },
   "outputs": [],
   "source": [
    "int getal = 15;\n",
    "if(getal % 3 == 0)\n",
    "    Console.WriteLine(\"Fizz\");\n",
    "if(getal % 5 == 0)\n",
    "    Console.WriteLine(\"Buzz\");\n",
    "if(getal % 3 != 0 && getal % 5 != 0)\n",
    "    Console.WriteLine(getal);"
   ]
  },
  {
   "cell_type": "markdown",
   "metadata": {},
   "source": [
    "# Opdracht extra-1\n",
    "Geef aan of een jaar een schrikkeljaar is of niet. Let op de uitzonderingen enzo"
   ]
  },
  {
   "cell_type": "code",
   "execution_count": null,
   "metadata": {
    "dotnet_interactive": {
     "language": "csharp"
    },
    "polyglot_notebook": {
     "kernelName": "csharp"
    }
   },
   "outputs": [],
   "source": []
  }
 ],
 "metadata": {
  "kernelspec": {
   "display_name": ".NET (C#)",
   "language": "C#",
   "name": ".net-csharp"
  },
  "language_info": {
   "name": "polyglot-notebook"
  },
  "polyglot_notebook": {
   "kernelInfo": {
    "defaultKernelName": "csharp",
    "items": [
     {
      "aliases": [],
      "languageName": "csharp",
      "name": "csharp"
     }
    ]
   }
  }
 },
 "nbformat": 4,
 "nbformat_minor": 2
}
