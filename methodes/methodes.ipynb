{
 "cells": [
  {
   "cell_type": "markdown",
   "metadata": {},
   "source": [
    "# Methodes\n",
    "Een methode is een stukje code die een bepaalde taak uitvoert. Het wordt gebruikt om herhalende acties te definieren. Een voorbeeld zou zijn het printen van tekst naar de console. Hiervoor is de methode WriteLine uitgevonden. Deze heb je gebruikt in [IO/Output regels](/io/output-regels.ipynb).\n",
    "\n",
    "Een methode bestaat altijd uit 4 onderdelen:\n",
    "- Naam : een unieke naam die omschrijft wat de methode doet\n",
    "- Parameters : optionele variabelen die je meegeeft, zodat je ermee kan werken in de methode\n",
    "- CodeBlok: Hierin staat de code die de taak uitvoert.\n",
    "- ReturnWaarde: optioneel een variabel die je teruggeeft aan de plek waar je hem hebt aangeroepen."
   ]
  },
  {
   "cell_type": "code",
   "execution_count": 3,
   "metadata": {
    "dotnet_interactive": {
     "language": "csharp"
    },
    "polyglot_notebook": {
     "kernelName": "csharp"
    }
   },
   "outputs": [
    {
     "name": "stdout",
     "output_type": "stream",
     "text": [
      "4.68\r\n"
     ]
    }
   ],
   "source": [
    "float GasConsumptionPrice(float gasConsumption , float gasPrice)\n",
    "{\n",
    "    return gasConsumption * gasPrice * 1.21f;\n",
    "}\n",
    "\n",
    "Console.WriteLine($\"$ {GasConsumptionPrice(12.0f, 0.39f)}\");\n",
    "Console.WriteLine($\"$ {GasConsumptionPrice(12.4f, 0.34f)}\");\n",
    "Console.WriteLine($\"$ {GasConsumptionPrice(16, 1.54f)}\");\n",
    "\n"
   ]
  },
  {
   "cell_type": "markdown",
   "metadata": {},
   "source": [
    "In de code hierboven is zijn de onderdelen als volgt:\n",
    "- Naam : GasConsumptionPrice\n",
    "- Parameters : 2 floats voor gasConsumption en gasPrice\n",
    "- CodeBlok: De bereking van de prijs (consumptie * prijs * belasting)\n",
    "- ReturnWaarde: float met de berekende prijs\n",
    "\n",
    "We roepen de code meerdere keren aan met verschillende parameters. Een methode kan je gebruiken om dubbele code te versimpelen. Neem aan dat we een grote applicatie waar de gas prijs op 100 plekken wordt berekend. Als we dan een wijziging maken in de prijs berekening dan moeten we dat op 100 plekken aanpassen. Wanneer we de prijsberekening zoals hierboven in een methode zetten. Hoeven we hem maar 1x te wijzigen. Dit zal veel werktijd schelen.\n",
    "\n",
    "## Opdracht 1\n",
    "schrijf een methode die het volgende doet:\n",
    "- Het doel van de methode is de water prijs te berekenen\n",
    "- De methode heeft nog geen parameters of return waarde\n",
    "    - gebruik hiervoor de void als return waarde   \n",
    "- formule voor de berekening is: *kuub * prijs * belasting*\n",
    "    - voor nu vaste waardes 20000 liter water, prijs is 1,37 per kuub en de belasting is 8%\n",
    "- De methode output de waarde in de console."
   ]
  },
  {
   "cell_type": "code",
   "execution_count": null,
   "metadata": {},
   "outputs": [],
   "source": []
  },
  {
   "cell_type": "markdown",
   "metadata": {},
   "source": [
    "## Opdracht 2\n",
    "Maak ook een methode voor elektriciteit. De overheid heeft echter gekozen om burgers te compenseren.\n",
    "Dit houdt in dat de prijs boven 100kwh 20 cent hoger ligt. plus is de belasting 4% goedkoper gemaakt. Verder is de berekening hetzelfde.\n",
    "- 235 Kwh stroom\n",
    "- 0,23 euro per uur\n",
    "- 8% belasting\n"
   ]
  }
 ],
 "metadata": {
  "kernelspec": {
   "display_name": ".NET (C#)",
   "language": "C#",
   "name": ".net-csharp"
  },
  "language_info": {
   "name": "polyglot-notebook"
  },
  "polyglot_notebook": {
   "kernelInfo": {
    "defaultKernelName": "csharp",
    "items": [
     {
      "aliases": [],
      "languageName": "csharp",
      "name": "csharp"
     }
    ]
   }
  }
 },
 "nbformat": 4,
 "nbformat_minor": 2
}
