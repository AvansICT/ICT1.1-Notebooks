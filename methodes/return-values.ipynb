{
 "cells": [
  {
   "cell_type": "markdown",
   "metadata": {},
   "source": [
    "# Methodes - return waarde\n",
    "Net zoals het meegeven van *parameters*, kunnen we ook een *return waarde* teruggeven. Deze waarde kunnen we dan gebruiken op de plek waar we de **methode** aanroepen. \n",
    "Je geeft een *return waarde* terug. Door ergens in het *code blok* de *return statement* te plaatsen. Onthou wel als er nog code na de *return statement* komt deze niet wordt uitgevoerd. De *return statement* sluit als het waren de **methode** af."
   ]
  },
  {
   "cell_type": "code",
   "execution_count": 14,
   "metadata": {},
   "outputs": [
    {
     "name": "stdout",
     "output_type": "stream",
     "text": [
      "the price is about 400\r\n"
     ]
    }
   ],
   "source": [
    "string GetPriceOfANeutron(){\n",
    "    var price = CalculatePrice(4);\n",
    "    return $\"the price is about {price}\";\n",
    "}\n",
    "\n",
    "int CalculatePrice(int numberOfNeutrons){\n",
    "    return 100 * numberOfNeutrons;\n",
    "   // deze code wordt nooit uitgevoerd omdat hierboven al een return wordt gegeven.\n",
    "    int newPrice = numberOfNeutrons * 100 + 23;\n",
    "    Console.WriteLine(\"something\");\n",
    "}\n",
    "\n",
    "var message = GetPriceOfANeutron();\n",
    "Console.WriteLine(message)"
   ]
  },
  {
   "cell_type": "markdown",
   "metadata": {},
   "source": [
    "Net zoals bij de *parameters* kun je alle variabellen teruggeven. Maar ook *objecten* en **methodes**. \n",
    "Je kan niet meerdere *variabellen* terug geven. Dit mag dus niet:"
   ]
  },
  {
   "cell_type": "code",
   "execution_count": 15,
   "metadata": {},
   "outputs": [],
   "source": [
    "string int GetPriceOfANeutron(){\n",
    "     var price = CalculatePrice(4);\n",
    "    return $\"the price is about {price}\" 3;\n",
    " }"
   ]
  },
  {
   "cell_type": "markdown",
   "metadata": {},
   "source": [
    "Echter zal dit niet vaak in je uiteindelijke code terecht komen. Omdat je code dan niet gebouwd kan worden naar machine-code.\n",
    "Je kan ook meerdere *return statement* in een **methode** plaatsen. Meestal gaat dit in combinatie met *if-statements*. Om zo te voorkomen dat je niet bereikbare code in een methode hebt staan."
   ]
  },
  {
   "cell_type": "code",
   "execution_count": 16,
   "metadata": {},
   "outputs": [],
   "source": [
    "bool isSolarPanelLoading(bool sunIsShining, bool solarPanelIsOn, bool batteryIsFull){\n",
    "    if(sunIsShining && solarPanelIsOn && !batteryIsFull){\n",
    "        return true;\n",
    "    }\n",
    "    return false;\n",
    "}"
   ]
  },
  {
   "cell_type": "markdown",
   "metadata": {},
   "source": [
    "Nu zijn er ook momenten dat je geen *return waardes* terug wil geven. *Console.WriteLine* is hier een voorbeeld van. Die heeft als enige taak de tekst te schrijven als output. Die doet verder niks met de meegeleverde string. Maar heeft ook geen *return waarde*, omdat dat hier niet nodig is."
   ]
  },
  {
   "cell_type": "code",
   "execution_count": 17,
   "metadata": {},
   "outputs": [],
   "source": [
    "public static void WriteLine (string format, object? arg0, object? arg1);"
   ]
  },
  {
   "cell_type": "markdown",
   "metadata": {},
   "source": [
    "Om aan te geven dat *WriteLine* niks teruggeeft dus dat de compiler weet van: \"He hier kan ik na uitvoeren gewoon doorgaan\". Ik verwacht namelijks niks terug van deze **methode**.\n",
    "\n",
    "# Opdracht 1\n",
    "We gaan de opdracht 1 uit [Parameters](./parameters.ipynb) uitbreiden met *return waarde*. In de nieuwe **methoden** moet de *return waarde* een decimal zijn."
   ]
  },
  {
   "cell_type": "code",
   "execution_count": 18,
   "metadata": {},
   "outputs": [],
   "source": []
  },
  {
   "cell_type": "markdown",
   "metadata": {},
   "source": [
    "# Opdracht 2\n",
    "We gaan de opdracht 2 uit [Parameters](./parameters.ipynb) uitbreiden met *return waarde*. In de nieuwe **methoden** moet de *return waarde* een **decimal** zijn."
   ]
  },
  {
   "cell_type": "code",
   "execution_count": 19,
   "metadata": {},
   "outputs": [],
   "source": []
  },
  {
   "cell_type": "markdown",
   "metadata": {},
   "source": [
    "# Opdracht 3\n",
    "Nu we de bovenste twee methodes hebben. Moet er een derde **methoden** komen. Deze **methode** print de resultaten van de **methodes** uit opdracht 1 en 2 uit in de *Console*.  in methode 3 staan de **variabele** gedeclareerd die je nodig hebt voor de twee **methodes**."
   ]
  },
  {
   "cell_type": "code",
   "execution_count": 20,
   "metadata": {},
   "outputs": [],
   "source": []
  }
 ],
 "metadata": {
  "kernelspec": {
   "display_name": ".NET (C#)",
   "language": "C#",
   "name": ".net-csharp"
  },
  "language_info": {
   "name": "polyglot-notebook"
  },
  "polyglot_notebook": {
   "kernelInfo": {
    "defaultKernelName": "csharp",
    "items": [
     {
      "aliases": [],
      "languageName": "csharp",
      "name": "csharp"
     }
    ]
   }
  }
 },
 "nbformat": 4,
 "nbformat_minor": 2
}
