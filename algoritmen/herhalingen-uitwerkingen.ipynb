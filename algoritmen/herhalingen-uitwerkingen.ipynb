{
 "cells": [
  {
   "cell_type": "markdown",
   "metadata": {},
   "source": [
    "# Uitwerkingen"
   ]
  },
  {
   "cell_type": "markdown",
   "metadata": {},
   "source": [
    "## Opdracht 1\n",
    "\n",
    "### FlowChart\n",
    "\n",
    "```mermaid\n",
    "---\n",
    "config:\n",
    "    flowchart:\n",
    "        defaultRenderer: elk\n",
    "---\n",
    "\n",
    "flowchart TD\n",
    "    subgraph  \n",
    "    A[TODO: Toevoegen]\n",
    "    end\n",
    "```\n",
    "\n",
    "### Code"
   ]
  },
  {
   "cell_type": "code",
   "execution_count": null,
   "metadata": {
    "dotnet_interactive": {
     "language": "csharp"
    },
    "polyglot_notebook": {
     "kernelName": "csharp"
    }
   },
   "outputs": [],
   "source": [
    "// Beginafmetingen van A0 papier\n",
    "int lengte = 1189; // in mm\n",
    "int breedte = 841; // in mm\n",
    "\n",
    "Console.WriteLine(\"Afmetingen van A-formaat papier:\");\n",
    "Console.WriteLine($\"A0: {lengte} mm x {breedte} mm (Oppervlakte: {lengte * breedte} mm²)\");\n",
    "\n",
    "// Loop om de afmetingen van de A-formaten te berekenen\n",
    "for (int i = 1; i <= 10; i++)\n",
    "{\n",
    "    // Bereken de afmetingen van A(x+1)\n",
    "    int nieuweLengte = breedte; // Lengte van A(x+1) is gelijk aan de breedte van A(x)\n",
    "    int nieuweBreedte = lengte / 2; // Breedte van A(x+1) is de helft van de lengte van A(x)\n",
    "\n",
    "    // Print de afmetingen en oppervlakte van A(x+1)\n",
    "    Console.WriteLine($\"A{i}: {nieuweLengte} mm x {nieuweBreedte} mm (Oppervlakte: {nieuweLengte * nieuweBreedte} mm²)\");\n",
    "\n",
    "    // Update de lengte en breedte voor de volgende iteratie\n",
    "    lengte = nieuweLengte;\n",
    "    breedte = nieuweBreedte;\n",
    "}"
   ]
  },
  {
   "cell_type": "markdown",
   "metadata": {},
   "source": [
    "## Opdracht 2 - Klinkers in een zin tellen\n",
    "\n",
    "### FlowChart\n",
    "\n",
    "```mermaid\n",
    "---\n",
    "config:\n",
    "    flowchart:\n",
    "        defaultRenderer: elk\n",
    "---\n",
    "\n",
    "flowchart TD\n",
    "    subgraph  \n",
    "    A[TODO: Toevoegen]\n",
    "    end\n",
    "```\n",
    "\n",
    "### Code"
   ]
  },
  {
   "cell_type": "code",
   "execution_count": null,
   "metadata": {
    "dotnet_interactive": {
     "language": "csharp"
    },
    "polyglot_notebook": {
     "kernelName": "csharp"
    }
   },
   "outputs": [],
   "source": [
    "string zin = \"Dit is een voorbeeldzin met enkele klinkers: a, e, i, o, u!\";\n",
    "int klinkerTeller = 0;\n",
    "\n",
    "// Loop door elke letter in de zin\n",
    "for (int i = 0; i < zin.Length; i++)\n",
    "{\n",
    "    // pak de specifieke letter van de zin voor verdere controle en zet deze om \n",
    "    // naar een kleine letter (ToLower), zodat eventuele hoofdletters ook meetellen.\n",
    "    char karakter = char.ToLower(zin[i]);\n",
    "\n",
    "    // Controleer of het karakter een klinker is\n",
    "    if (karakter == 'a' || karakter == 'e' || karakter == 'i' || karakter == 'o' || karakter == 'u')\n",
    "    {\n",
    "        klinkerTeller++; // Verhoog de teller voor elke klinker\n",
    "    }\n",
    "}\n",
    "\n",
    "// Print het resultaat\n",
    "Console.WriteLine($\"Aantal klinkers in de zin: {klinkerTeller}\");"
   ]
  }
 ],
 "metadata": {
  "kernelspec": {
   "display_name": ".NET (C#)",
   "language": "C#",
   "name": ".net-csharp"
  },
  "language_info": {
   "name": "polyglot-notebook"
  },
  "polyglot_notebook": {
   "kernelInfo": {
    "defaultKernelName": "csharp",
    "items": [
     {
      "aliases": [],
      "languageName": "csharp",
      "name": "csharp"
     }
    ]
   }
  }
 },
 "nbformat": 4,
 "nbformat_minor": 2
}
