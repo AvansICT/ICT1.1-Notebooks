{
 "cells": [
  {
   "cell_type": "markdown",
   "metadata": {},
   "source": [
    "# Uitwerkingen"
   ]
  },
  {
   "cell_type": "markdown",
   "metadata": {},
   "source": [
    "## Opdracht 1 - DIN papierformaten berekenen\n",
    "\n",
    "We starten met de afmetingen van een vel A0 papier: 1189 x 841 mm (lengte x breedte).\n",
    "Ieder nieuw (kleiner) formaat A<sub>x+1</sub> wordt bepaald uit de afmetingen van het vorige (grotere) formaat A<sub>x</sub> op de volgende wijze:\n",
    "- De lengte van A<sub>x+1</sub> is gelijk aan de breedte van A<sub>x</sub>.\n",
    "- De breedte van A<sub>x+1</sub> is gelijk aan de helft van de lengte van A<sub>x</sub> (we ronden omlaag af naar hele millimeters).\n",
    "- De oppervlakte van A<sub>x+1</sub> is daardoor de helft van de oppervlakte van A<sub>x</sub>.\n",
    "\n",
    "Dus:\n",
    "- A1 = 841 mm x 1189 * 1/2 mm = 841 mm x 594 mm\n",
    "- A2 = 594 mm x 841 * 1/2 mm = 594 mm x 420 mm\n",
    "- A3 = ... etc.\n",
    "\n",
    "Maak een algoritme om deze DIN papierformaten te berekenen.\n",
    "1. Maak eerst een schets van de flowchart met de hand op papier.\n",
    "2. Werk de flowchart netjes uit zodat hij ook voor anderen duidelijk is.\n",
    "3. Maak duidelijk welke variabelen er zijn, wat hun datatype is en wat hun functie is in het algoritme, dus wat ze voorstellen tijdens de uitvoering van het algoritme. Noteer dat bijvoorbeeld met opmerkingen naast de flowchart, of in een aparte tabel.\n",
    "4. Zorg dat je algoritme de afmetingen van A0 t/m A10 berekent.\n",
    "5. Laat je algoritme die afmetingen in kolommen afdrukken:\n",
    "\n",
    "|DIN formaat|Lengte (mm)|Breedte (mm)|Oppervlakte (mm<sup>2</sup>)|\n",
    "|-----------|-----------|------------|-----------------|\n",
    "|A0|1189|841|999949|\n",
    "|A1|841|594|499554|\n",
    "|A2|594|420| ? |\n",
    "|A3|420 | ? | ? |\n",
    "|A4| ? | ? | ? |\n",
    "|etc.| | | |\n",
    "\n",
    "**Vraag:** Welk DIN formaat heeft een oppervlakte < 100 mm<sup>2</sup>?\n",
    "Voer je algoritme uit, met de hand en een rekenmachine of met b.v. Flowgorithm op je laptop, en reken zo uit vanaf welk DIN formaat de oppervlakte van het papier kleiner is dan 100 mm<sup>2</sup>. Leg voor jezelf en aan je medestudenten uit hoe je op dit antwoord bent gekomen. Er zijn meerdere goede manieren om op het juiste antwoord uit te komen.\n",
    "\n",
    "> Een zoekmachine of chatbot op internet meteen naar het antwoord vragen is **niet** de juiste manier want daar leer je niets van. Je kunt wel zo je zelf gevonden antwoord controleren.\n"
   ]
  },
  {
   "cell_type": "markdown",
   "metadata": {},
   "source": [
    "## Opdracht 2 - Klinkers in een zin tellen\n",
    "\n",
    "Bedenk een algoritme dat het aantal klinkers telt in een gegeven zin. Een zin is hier een reeks van letters, cijfers en speciale symbolen zoals leestekens. Zowel hoofdletters als kleine letters kunnen voorkomen.\n",
    "Natuurlijk gebruikt je algoritme een lus.\n",
    "\n",
    "Een voorbeeld:\n",
    "\n",
    "|Invoer|Uitvoer (aantal klinkers)|\n",
    "|--|--|\n",
    "|Dit is een testzin|6|\n",
    "|Grrblmfz&%#$@|0|\n",
    "|294|0|\n",
    "|Een nieuwe zin|7|\n",
    "\n",
    "Stappen:\n",
    "\n",
    "- Maak een flowchart van je algoritme. Test het eerst op papier, zet het daarna om in een uitvoerbare versie op je laptop met b.v. Flowgorithm.\n",
    "- Breid de flowchart uit zodat die de gebruiker een zin laat invoeren, het aantal klinkers daarin telt, en daarna dat aantal afdrukt.\n",
    "- Maak een tabel van testzinnen waarmee je je algoritme test. Noteer ook de resultaten in de tabel. Daarin staat dus telkens een ingevoerde testzin en het gevonden aantal klinkers, en dat voor alle testzinnen.\n",
    "- Vergelijk jouw flowchart met die van medestudenten en bespreek de overeenkomsten en verschillen.\n",
    "- Test de flowchart van een medestudent met jouw testzinnen en laat jouw flowchart testen met de testzinnen van een medestudent. Vind je nieuwe bugs in je algoritme?\n"
   ]
  },
  {
   "cell_type": "markdown",
   "metadata": {},
   "source": [
    "> Je merkt dat we veel nadruk leggen op **testen** van algoritmen. Dat doen we omdat we meteen vanaf het begin jouw kritische blik op je eigen werk en het werk van anderen (ook dat van docenten) willen stimuleren. Immers, een algoritme dat foute antwoorden geeft is niet echt nuttig. En een algoritme dat foute antwoorden geeft die eruit zien als goede antwoorden is zelfs ronduit gevaarlijk. In de wereld van de computersoftware is elk detail belangrijk, dus werk zorgvuldig en blijf alert."
   ]
  }
 ],
 "metadata": {
  "kernelspec": {
   "display_name": ".NET (C#)",
   "language": "C#",
   "name": ".net-csharp"
  },
  "language_info": {
   "name": "polyglot-notebook"
  },
  "polyglot_notebook": {
   "kernelInfo": {
    "defaultKernelName": "csharp",
    "items": [
     {
      "aliases": [],
      "languageName": "csharp",
      "name": "csharp"
     }
    ]
   }
  }
 },
 "nbformat": 4,
 "nbformat_minor": 2
}
