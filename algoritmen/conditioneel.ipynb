{
 "cells": [
  {
   "cell_type": "markdown",
   "metadata": {},
   "source": [
    "# Algoritmes met condities\n",
    "\n",
    "In een algoritme moeten soms stappen alleen uitgevoerd worden als aan bepaalde voorwaarden is voldaan. Een voorwaarde wordt ook wel een _conditie_ genoemd, en deze conditionele stappen zijn de basis voor de meeste algoritmes. \n",
    "\n",
    "Zo'n conditionele stap kunnen we met een ruit-symbool voorstellen in een flowchart. In het ruit-symbool zetten we een logische conditie, iets dat waar is of onwaar is. In de informatica wordt dat een booleaanse waarde genoemd, of kortweg een boolean. Tijdens de uitvoering van het algoritme wordt de waarde van de logische conditie uitgerekend, en alleen als het resultaat de waarde waar is wordt het conditionele deel van het algoritme uitgevoerd.\n",
    "\n",
    "```mermaid\n",
    "flowchart\n",
    "A[Zet de cake in de oven.] --> B\n",
    "B[Schakel de oven in.] --> C\n",
    "C[Wacht tot de cake klaar is.] --> D\n",
    "D[Schakel de oven uit.] --> E\n",
    "E{Oven is nog niet afgekoeld}\n",
    "E -- true --> F\n",
    "E -- false --> G\n",
    "F[Doe ovenwanten aan.] -->\n",
    "G[Haal de cake uit de oven.]\n",
    "```\n",
    "\n",
    "//TODO: uitleg over hoe je de condities bepaald in een algoritme\n"
   ]
  },
  {
   "cell_type": "markdown",
   "metadata": {},
   "source": [
    "# Opdrachten"
   ]
  },
  {
   "cell_type": "code",
   "execution_count": null,
   "metadata": {
    "dotnet_interactive": {
     "language": "csharp"
    },
    "polyglot_notebook": {
     "kernelName": "csharp"
    }
   },
   "outputs": [],
   "source": []
  },
  {
   "cell_type": "markdown",
   "metadata": {},
   "source": [
    "## Opdracht 1"
   ]
  }
 ],
 "metadata": {
  "kernelspec": {
   "display_name": ".NET (C#)",
   "language": "C#",
   "name": ".net-csharp"
  },
  "language_info": {
   "name": "polyglot-notebook"
  },
  "polyglot_notebook": {
   "kernelInfo": {
    "defaultKernelName": "csharp",
    "items": [
     {
      "aliases": [],
      "languageName": "csharp",
      "name": "csharp"
     }
    ]
   }
  }
 },
 "nbformat": 4,
 "nbformat_minor": 2
}
