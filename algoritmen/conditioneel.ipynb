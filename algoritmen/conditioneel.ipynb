{
 "cells": [
  {
   "cell_type": "markdown",
   "metadata": {},
   "source": [
    "# Algoritmes met condities\n",
    "\n",
    "In een algoritme moeten soms stappen alleen uitgevoerd worden als aan bepaalde voorwaarden is voldaan. Een voorwaarde wordt ook wel een _conditie_ genoemd, en deze conditionele stappen zijn de basis voor de meeste algoritmes. \n",
    "\n",
    "Zo'n conditionele stap kunnen we met een ruit-symbool voorstellen in een flowchart. In het ruit-symbool zetten we een logische conditie, iets dat waar is of onwaar is. In de informatica wordt dat een booleaanse waarde genoemd, of kortweg een boolean. Tijdens de uitvoering van het algoritme wordt de waarde van de logische conditie uitgerekend, en alleen als het resultaat de waarde waar is wordt het conditionele deel van het algoritme uitgevoerd.\n",
    "\n",
    "```mermaid\n",
    "flowchart\n",
    "A[Zet de cake in de oven.] --> B\n",
    "B[Schakel de oven in.] --> C\n",
    "C[Wacht tot de cake klaar is.] --> D\n",
    "D[Schakel de oven uit.] --> E\n",
    "E{Oven is nog niet afgekoeld}\n",
    "E -- true --> F\n",
    "E -- false --> G\n",
    "F[Doe ovenwanten aan.] -->\n",
    "G[Haal de cake uit de oven.]\n",
    "```\n",
    "\n",
    "//TODO: uitleg over hoe je de condities bepaald in een algoritme\n",
    "\n"
   ]
  },
  {
   "cell_type": "markdown",
   "metadata": {},
   "source": [
    "# Opdrachten"
   ]
  },
  {
   "cell_type": "markdown",
   "metadata": {},
   "source": [
    "## Opdracht 1\n",
    "\n",
    "### 1a Flowchart opstellen\n",
    "Teken een flowchart van een algoritme dat de middelste van 3 ingevoerde getallen selecteert. Dus niet de grootste of de kleinste van de drie ingevoerde getallen maar de waarde ertussenin.\n",
    "Laat de gebruiker die 3 getalwaarden invoeren en sla ze op in drie variabelen. Die zou je a, b en c kunnen noemen, maar je kunt vast wel duidelijkere namen verzinnen, dus gebruik die.\n",
    "\n",
    "Voorbeelden:\n",
    "- Invoer van 2, 11 en 7 geeft als uitvoer 7\n",
    "- Invoer van 9, 3 en 2 geeft als uitvoer 3\n",
    "- Invoer van 6, nogmaals 6 en 4 geeft als uitvoer 6\n",
    "\n",
    "### 1b Testdata kiezen\n",
    "Bepaal met welke getallen je je algoritme wilt gaan testen. Kies daarvoor 3 verschillende getallen en zet die in verschillende volgorden. De uitkomst mag niet afhangen van de volgorde van invoer.\n",
    "\n",
    "Vraag: Hoeveel verschillende manieren zijn er om 3 getallen a, b en c te rangschikken? Neem bijvoorbeeld 2, 5 en 7:\n",
    "\n",
    "//TODO: hier de tabel (zie lesmateriaal IPJ)\n",
    "\n",
    "### 1c Testen\n",
    "Je hebt een flowchart van je algoritme, je hebt een tabel met testdata, dus nu kan je je algoritme testen.\n",
    "Vul daarbij met de hand (op papier of op je laptop) een tabel met de resultaten en ga na of ze kloppen met wat je zou verwachten.\n",
    "\n",
    "Kloppen alle waarden? Gefeliciteerd!\n",
    "Klopt een waarde niet? Ook gefeliciteerd, je hebt zojuist door de testen een bug in je algoritme gevonden die je nu kunt fixen. Pas je algoritme (dus je flowchart) aan en test opnieuw.\n",
    "\n",
    "Vraag: Als je je algoritme verbeterd hebt, moet je dan alle waarden uit je tabel met testdata opnieuw testen, of alleen de waarde waarbij het misging? Bespreek je antwoord met de docent.\n",
    "\n"
   ]
  }
 ],
 "metadata": {
  "kernelspec": {
   "display_name": ".NET (C#)",
   "language": "C#",
   "name": ".net-csharp"
  },
  "language_info": {
   "name": "polyglot-notebook"
  },
  "polyglot_notebook": {
   "kernelInfo": {
    "defaultKernelName": "csharp",
    "items": [
     {
      "aliases": [],
      "languageName": "csharp",
      "name": "csharp"
     }
    ]
   }
  }
 },
 "nbformat": 4,
 "nbformat_minor": 2
}
