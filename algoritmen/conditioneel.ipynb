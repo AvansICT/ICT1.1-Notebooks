{
 "cells": [
  {
   "cell_type": "markdown",
   "metadata": {},
   "source": [
    "# Algoritmes met condities\n",
    "\n",
    "In een algoritme moeten soms stappen alleen uitgevoerd worden als aan bepaalde voorwaarden is voldaan. Dit kunnen we met een ruit-symbool voorstellen in een flowchart, en staat uitgelegd bij het hoofdstuk over de if. Deze condities zijn de basis voor de meeste algoritmes. \n",
    "\n",
    "//TODO: uitleg over hoe je de condities bepaald in een algoritme\n"
   ]
  },
  {
   "cell_type": "markdown",
   "metadata": {},
   "source": [
    "# Opdrachten"
   ]
  },
  {
   "cell_type": "markdown",
   "metadata": {},
   "source": [
    "## Opdracht 1"
   ]
  }
 ],
 "metadata": {
  "kernelspec": {
   "display_name": ".NET (C#)",
   "language": "C#",
   "name": ".net-csharp"
  },
  "language_info": {
   "name": "polyglot-notebook"
  },
  "polyglot_notebook": {
   "kernelInfo": {
    "defaultKernelName": "csharp",
    "items": [
     {
      "aliases": [],
      "languageName": "csharp",
      "name": "csharp"
     }
    ]
   }
  }
 },
 "nbformat": 4,
 "nbformat_minor": 2
}
