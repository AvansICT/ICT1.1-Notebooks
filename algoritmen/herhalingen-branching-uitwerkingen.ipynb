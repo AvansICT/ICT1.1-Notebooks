{
 "cells": [
  {
   "cell_type": "markdown",
   "metadata": {},
   "source": [
    "# Uitwerkingen"
   ]
  },
  {
   "cell_type": "markdown",
   "metadata": {},
   "source": [
    "## Opdracht 1 - Kleinste van drie getalwaarden\n",
    "\n",
    "Stel een flowchart op van een algoritme dat de gebruiker drie getalwaarden laat invoeren en vervolgens daaruit de kleinste van die drie waarden bepaalt en afdrukt.\n",
    "\n",
    "> *Natuurlijk zou je dit kunnen met een ingebouwde minimum-functie in C#, maar deze oefening is erop gericht om zelf een algoritme te bedenken, niet om in de C# bibliotheken te gaan zoeken naar een oplossing.*\n",
    "\n",
    "Als je niet weet hoe je moet beginnen, probeer dan deze aanpak:\n",
    "\n",
    "1. Bedenk welke invoerwaarden nodig zijn voor het algoritme. In dit geval dus die drie getalwaarden. Bedenk namen voor de drie variabelen waarin je algoritme die waarden opslaat. Teken dat eerste deel van de flowchart. Nu heb je een begin.\n",
    "2. Bedenk welke uitvoerwaarde(n) nodig is/zijn. In dit geval willen we de kleinste waarde weten. Bedenk een variabelenaam hiervoor. Teken dat laatste deel van de flowchart.\n",
    "3. Bedenk nu met welke stappen je de uitvoerwaarde kunt afleiden uit de invoerwaarden. Dat kan in dit geval op verschillende manieren. Bijvoorbeeld:\n",
    "    - Als het eerste ingevoerde getal het kleinste is, welke boolean expressie moet dan gelden? Dus als je die in een if-statement zet en hij is true, dan weet je wat de kleinste waarde is. Idem voor het tweede en voor het derde ingevoerde getal. Dus met drie if-statements zou het kunnen, eentje voor elk mogelijk antwoord.\n",
    "    - Stel, je hebt maar twee getallen, hoe bepaal je dan de kleinste van de twee? Natuurlijk met een if-statement. Dus van de eerste twee getallen kan je zo de kleinste vinden. Nu komt er een derde getal bij. Hoe bepaal je nu de kleinste uit je eerdere tussenresultaat (kleinste van de eerste twee getallen) en dit derde getal? Ook met een if-statement. Dus met twee if-statements na elkaar zou het kunnen.\n",
    "    - Stel dat er meer dan 3 getallen zouden zijn, bijvoorbeeld net zoveel als de gebruiker wil, wat dan? We weten dan niet vooraf om hoeveel getallen het gaat. Dan grijp je natuurlijk naar een lus want die kan je net zo vaak doorlopen als je wilt.\n",
    "        - Lees het eerste getal in. Als er niet meer getallen komen is dat meteen het antwoord.\n",
    "        - Als er nog een getal nodig is, lees dan in de eerste iteratie dat getal en kies uit die twee getallen de kleinste en onthoud die.\n",
    "        - Als er nog een getal nodig is, lees dan in de volgende iteratie dat getal en kies uit die twee getallen de kleinste en onthoud die.\n",
    "        - Als er nog een getal nodig is, lees dan ... (etc.). Dus voor drie getallen doorloop je twee iteraties van je lus.\n",
    "4. Teken het middeldeel van de flowchart met de stappen die je zojuist hebt gekozen.\n",
    "5. Test je flowchart met de hand met een aantal (slim gekozen) invoerwaarden. Bijvoorbeeld 0, 1 en 2 in verschillende volgorden. En misschien ook tweemaal dezelfde waarde, of driemaal dezelfde waarde.\n",
    "\n",
    "> Je ziet dat er meerdere goede manieren zijn om een probleem met een algoritme op te lossen. Elk algoritme dat de juiste uitkomst oplevert is in principe bruikbaar, en dus goed in deze opdracht.\n",
    "\n",
    "### Mogelijke uitwerking\n",
    "\n",
    "*TODO*"
   ]
  },
  {
   "cell_type": "markdown",
   "metadata": {},
   "source": [
    "## Opdracht 2 - Gulden snede benaderen met de Fibonacci reeks\n",
    "\n",
    "In deze opdracht ga je een benaderingsalgoritme opstellen voor de Gulden snede, gebruikmakend van de Fibonacci reeks. Stel in eerste instantie hiervoor een flowchart op. Naderhand maak je daarvan uitvoerbare C# code.\n",
    "\n",
    "1. Bereken met een rekenmachine de gulden snede tot op minstens 15 cijfers achter de komma nauwkeurig. De exacte waarde van de gulden snede is in bovenstaande kennisclip afgeleid maar kan je ook op [wikipedia](https://nl.wikipedia.org/wiki/Gulden_snede) vinden.\n",
    "\n",
    "2. Bereken voor de eerste 20 getallen uit de Fibonacci reeks de benadering van de gulden snede. Dat is dus de verhouding tussen twee opeenvolgende getallen in de Fibonacci reeks. In de kennisclip is dit deels voorgedaan. Je kan dit met de hand doen, maar met een spreadsheet gaat het handiger en sneller.\n",
    "\n",
    "3. Bereken voor elk van die benaderingen de afwijking van de exacte waarde. Ook dat kan het handigste met een spreadsheet.\n",
    "\n",
    "    *Wat valt je op over het voorteken van dit verschil? Dat inzicht kan verderop van pas komen.*\n",
    "\n",
    "4. Ga aan de hand van deze berekeningen na of de waarden in de kennisclip kloppen of niet. Welke zijn juist, welke niet? Vergelijk je resultaten met medestudenten. Hebben jullie dezelfde uitkomsten?\n",
    "\n",
    "5. Bedenk op basis van de berekeningen die je hierboven zelf hebt gedaan een algoritme dat een computer deze berekeningen kan laten uitvoeren en teken dat als flowchart. Het algoritme moet één voor één de getallen uit de Fibonacci reeks berekenen, telkens de laatste twee getallen uit die reeks op elkaar delen en de afwijking van de exacte waarde van de gulden snede berekenen. Weersta de neiging om dat meteen op internet te gaan opzoeken en doe eerst zelf een poging. De handigste aanpak is de volgende:\n",
    "\n",
    "    - Stel je hebt twee getallen uit de Fibonacci reeks. Noem die bijvoorbeeld a en b (b is de grootste en hoogste van de twee).\n",
    "    - Hoe zou je uit a en b het volgende getal uit de Fibonacci reeks berekenen? Laat dat je algoritme doen. Noem die waarde even c.\n",
    "    - Je hebt nu twee nieuwe grootste getallen uit de reeks, namelijk b en c. Hoe zou je daaruit de benadering van de gulden snede berekenen? Noem die waarde b.v. benadering.\n",
    "    - Het verschil met de exacte gulden snede berekenen is simpelweg aftrekken, dat kan je algoritme vast wel.\n",
    "    - Je hebt nu één iteratie gedaan. Om de volgende iteratie te kunnen doen moet je de variabelen zo manipuleren dat je weer aan het begin van de lus door kunt gaan. Dus je hebt de juiste waarden van a en b nodig. Hoe kan je die uit a, b en c kunnen afleiden? Of eigenlijk: wat is de nieuw berekende b-waarde en wat is dan de a-waarde?\n",
    "    - Als je die laatste berekening toevoegt heb je de lus in je algoritme compleet. Nu alleen nog een eindconditie toevoegen zodat je lus niet oneindig doorgaat. Kies in eerste instantie een maximumwaarde voor b.v. b om de lus te stoppen.\n",
    "    - Neem als eindconditie nu niet een maximum voor a, b of c, maar een waarde voor de berekende afwijking. Stop de lus zodra die afwijking kleiner dan 10<sup>-12</sup> is.\n",
    "    - Laat je algoritme alle tussenresultaten als tabel afdrukken:\n",
    "\n",
    "    |stap|a|b|b/a|b/a - gulden snede|\n",
    "    |----|-|-|---|----------------|\n",
    "    |0   |0|1|   |                |\n",
    "    |1   |1|1|1  |-0.618033988    |\n",
    "    |2   |1|2|2  |(laten berekenen)|\n",
    "    |3   |2|3|1.5|(etc.)          |\n",
    "\n",
    "    - Na hoeveel stappen stopt je algoritme omdat de eindconditie is bereikt? Dus hoeveel iteraties zijn nodig om die afwijking van minder dan 10<sup>-12</sup> te bereiken?\n",
    "\n",
    "6. Implementeer je algoritme in C# code:"
   ]
  },
  {
   "cell_type": "markdown",
   "metadata": {},
   "source": [
    "### Mogelijke uitwerking\n",
    "\n",
    "De flowchart van dit algoritme kan er bijvoorbeeld zo uitzien:\n",
    "\n",
    "![Uitwerking Fibonacci gulden snede](images/flowchart_Fibonacci_gulden_snede.PNG \"Uitwerking opdracht 2 gulden snede benadering met Fibonacci reeks flowchart\")\n",
    "\n",
    "Je ziet dat je de exacte waarde van de gulden snede gewoon als wiskundige berekening kan noteren. We hoeven niet een waarde met een beperkt aantal cijfers achter de komma te gebruiken. Daardoor verliezen we geen nauwkeurigheid.\n",
    "\n",
    "Je ziet ook dat in de eindconditie de absolute waarde van het verschil tussen benadering en exacte waarde wordt gebruikt door gebruik van de `ABS(...)` functie. Deze functie maakt van een negatieve waarde een positieve waarde. Zo hoeven we in de check of we klaar zijn geen rekening meer te houden met de vraag of de benadering groter of kleiner dan de exacte waarde is. De benadering blijkt namelijk afwisselend groter en kleiner dan de exacte waarde te zijn, dus daar moet je algoritme goed mee omgaan.\n",
    "\n",
    "`WRITE FORMAT(...)` is in deze flowchart een manier om de tabel er netjes uit te laten zien. Niet heel belangrijk voor de correcte werking.\n",
    "\n",
    "In C# zou het zo geïmplementeerd kunnen worden:"
   ]
  },
  {
   "cell_type": "code",
   "execution_count": 6,
   "metadata": {},
   "outputs": [
    {
     "name": "stdout",
     "output_type": "stream",
     "text": [
      " 1       1       1 1                    -0.6180339887498949      \n",
      " 2       1       2 2                    0.3819660112501051       \n",
      " 3       2       3 1.5                  -0.1180339887498949      \n",
      " 4       3       5 1.6666666666666667   0.04863267791677184      \n",
      " 5       5       8 1.6                  -0.018033988749894814    \n",
      " 6       8      13 1.625                0.0069660112501050975    \n",
      " 7      13      21 1.6153846153846154   -0.0026493733652794837   \n",
      " 8      21      34 1.619047619047619    0.0010136302977241662    \n",
      " 9      34      55 1.6176470588235294   -0.00038692992636546464  \n",
      "10      55      89 1.6181818181818182   0.00014782943192326314   \n",
      "11      89     144 1.6179775280898876   -5.6460660007306984E-05  \n",
      "12     144     233 1.6180555555555556   2.15668056606777E-05     \n",
      "13     233     377 1.6180257510729614   -8.237676933475768E-06   \n",
      "14     377     610 1.6180371352785146   3.1465286196574738E-06   \n",
      "15     610     987 1.618032786885246    -1.2018646489142526E-06  \n",
      "16     987    1597 1.618034447821682    4.590717870289751E-07    \n",
      "17    1597    2584 1.6180338134001253   -1.7534976959332482E-07  \n",
      "18    2584    4181 1.618034055727554    6.697765919660981E-08    \n",
      "19    4181    6765 1.6180339631667064   -2.5583188456579364E-08  \n",
      "20    6765   10946 1.6180339985218033   9.771908393574336E-09    \n",
      "21   10946   17711 1.618033985017358    -3.732536946188247E-09   \n",
      "22   17711   28657 1.6180339901755971   1.4257022229458016E-09   \n",
      "23   28657   46368 1.618033988205325    -5.445699446937624E-10   \n",
      "24   46368   75025 1.618033988957902    2.0800716704627575E-10   \n",
      "25   75025  121393 1.6180339886704431   -7.945177848966978E-11   \n",
      "26  121393  196418 1.6180339887802426   3.034772433352373E-11    \n",
      "27  196418  317811 1.618033988738303    -1.159183860011126E-11   \n",
      "28  317811  514229 1.6180339887543225   4.427569422205124E-12    \n",
      "28 iteraties nodig gehad om grenswaarde 1E-11 te bereiken\n"
     ]
    }
   ],
   "source": [
    "double gulden_snede = (1.0 + Math.Sqrt(5)) / 2.0;\n",
    "int a = 0;\n",
    "int b = 1;\n",
    "double afwijking = gulden_snede;\n",
    "int iteraties = 0;\n",
    "double grenswaarde = 10E-12;\n",
    "while (Math.Abs(afwijking) > grenswaarde)\n",
    "{\n",
    "    iteraties = iteraties + 1;\n",
    "    int nieuwe_b = a + b;\n",
    "    a = b;\n",
    "    b = nieuwe_b;\n",
    "    double benadering = (double) b / (double) a;\n",
    "    afwijking = benadering - gulden_snede;\n",
    "    Console.WriteLine($\"{iteraties,2} {a,7} {b,7} {benadering,-20} {afwijking,-25}\");\n",
    "}\n",
    "Console.WriteLine($\"{iteraties} iteraties nodig gehad om grenswaarde {grenswaarde} te bereiken\");"
   ]
  },
  {
   "cell_type": "markdown",
   "metadata": {},
   "source": [
    "## Opdracht 3 - Gemiddelde van niet-negatieve getallen uit ingevoerde reeks\n",
    "\n",
    "Stel een flowchart op van een algoritme dat de gemiddelde waarde berekent van alle niet-negatieve getallen uit een reeks van getallen die door de gebruiker worden ingevoerd. De gebruiker kiest vooraf hoeveel getallen ingevoerd gaan worden.\n",
    "\n",
    "Het gemiddelde van een aantal getallen is de som van die getallen (dus alle getallen bij elkaar opgeteld) gedeeld door het aantal getallen. Bijvoorbeeld:\n",
    "\n",
    "    (3 + 4 + 3 + 7 + 13 + 22 + 11) / 7 = 9 gemiddeld\n",
    "\n",
    "Logische stappen in dat algoritme:\n",
    "- Laat de gebruiker invoeren hoeveel getallen er ingelezen gaan worden.\n",
    "- Laat de gebruiker in een lus al die getallen invoeren.\n",
    "- Telkens als een getal is ingevoerd werk je de som van de getallen bij.\n",
    "- Als alle getallen zijn ingevoerd bereken je het gemiddeld op basis van de som en het aantal getallen.\n",
    "\n",
    "> Is het nodig om alle ingevoerde getallen op te slaan? Misschien heb je van nature of uit gewoonte die neiging wel, maar bekijk altijd kritisch of het wel nodig is om dat computergeheugen (en die rekentijd) daaraan te besteden. In dit geval is het niet nodig.\n",
    "\n",
    "Maar we zijn er nog niet. De vraag was om alleen die getallen mee te nemen in het gemiddelde die niet negatief zijn (dus >= nul). Dus je algoritme moet van elk ingevoerd getal controleren of het >= 0 is, en alleen dan de som bijwerken. En het aantal waardoor gedeeld moet worden is nu niet meer vooraf bekend maar moet ook worden bijgehouden. Pas je algoritme daarop aan.\n",
    "\n",
    "Je kan je algoritme in C# code omzetten en testen:"
   ]
  },
  {
   "cell_type": "code",
   "execution_count": null,
   "metadata": {
    "dotnet_interactive": {
     "language": "csharp"
    },
    "polyglot_notebook": {
     "kernelName": "csharp"
    }
   },
   "outputs": [],
   "source": [
    "Console.WriteLine(\"Gemiddelde van niet-negatieve getallen uit ingevoerde reeks\");\n",
    "Console.WriteLine(\"Hoeveel getallen wil je invoeren?\");\n",
    "int aantalGetallen = int.Parse(Console.ReadLine());\n",
    "// TODO Vul verder aan"
   ]
  },
  {
   "cell_type": "markdown",
   "metadata": {},
   "source": [
    "### Mogelijke uitwerking\n",
    "\n",
    "*TODO*"
   ]
  },
  {
   "cell_type": "markdown",
   "metadata": {},
   "source": [
    "## Opdracht 4 - Hoger/lager algoritme (binair zoeken)\n",
    "\n",
    "Ontwerp een algoritme, en teken daarvan een flowchart, dat het volgende doet:\n",
    "\n",
    "1. Kies een willekeurig getal uit het bereik 1 t/m 100 en sla dat op. Dit getal houden we voor de gebruiker geheim want die moet het getal gaan raden.\n",
    "2. Vraag de gebruiker om een getal in te voeren uit het bereik 1 t/m 100.\n",
    "3. Als het ingevoerde getal gelijk is aan het willekeurig gekozen getal, dan eindigt het algoritme met de mededeling aan de gebruiker dat het getal is geraden.\n",
    "4. Als het ingevoerde getal kleiner is dan het willekeurig gekozen getal, laat dan de gebruiker weten dat het willekeurig gekozen getal groter is dan het ingevoerde getal.\n",
    "5. Als het ingevoerde getal groter is dan het willekeurig gekozen getal, laat dan de gebruiker weten dat het willekeurig gekozen getal kleiner is dan het ingevoerde getal.\n",
    "6. Herhaal vanaf stap 2. (totdat het getal door de gebruiker is geraden).\n",
    "\n",
    "Breid je algoritme uit met de volgende feature:\n",
    "- Het algoritme telt het aantal keren dat de gebruiker een getal invoert (stap 2. hierboven). Dat is dus het aantal pogingen om het getal te raden.\n",
    "- Het algoritme laat aan de gebruiker weten na hoeveel pogingen het getal is geraden (stap 3. hierboven).\n",
    "\n",
    "Hoeveel pogingen heeft de gebruiker maximaal nodig om het willekeurig gekozen getal te raden (onder de aanname dat de gebruiker zo slim mogelijk zal proberen te raden)? En welke strategie zal de gebruiker daarbij hanteren? Dus: hoe zou jij het aanpakken als je zo snel mogelijk het getal moest raden?\n",
    "\n",
    "En als het bereik niet 1 t/m 100 maar 1 t/m 1000 was? Of 1 t/m 10000? Hoeveel pogingen zijn dan nodig? Is dat telkens 10 keer zoveel, of is het minder dan 10 keer?\n",
    "\n",
    "### Mogelijke uitwerking\n",
    "\n",
    "*TODO*"
   ]
  },
  {
   "cell_type": "markdown",
   "metadata": {},
   "source": [
    "## Opdracht 5 (Uitdaging) - Pythagorese drietallen vinden (brute force)\n",
    "\n",
    "**Let op:** Deze opdracht is gericht op studenten met voorkennis op het gebied van programmeren. Probeer dit pas als je alle andere opdrachten gedaan hebt.\n",
    "\n",
    "Een Pythagorees drietal is een drietal getallen (a, b en c) waarvoor geldt dat\n",
    "\n",
    "a<sup>2</sup> + b<sup>2</sup> = c<sup>2</sup>    (de stelling van Pythagoras dus)\n",
    "\n",
    "Pythagorese drietallen kun je op verschillende manieren met een computer vinden:\n",
    "- Brute force zoekmethode: probeer alle mogelijke combinaties van a, b en c en controleer telkens of a<sup>2</sup> + b<sup>2</sup> = c<sup>2</sup>. Zo ja, dan heb je een Pythagorees drietal te pakken.\n",
    "- Kies positieve gehele getallen m en n waarvoor geldt dat m > n en bereken daarmee a, b en c volgens deze formules:\n",
    "\n",
    "    a = m<sup>2</sup> - n<sup>2</sup>\n",
    "    \n",
    "    b = 2mn\n",
    "    \n",
    "    c = m<sup>2</sup> + n<sup>2</sup>\n",
    "\n",
    "1. Bedenk nu een algoritme (en maak daarvan een flowchart) dat het enige Pythagorese drietal (a, b, c) vindt waarvoor geldt dat a + b + c = 1000. Er is precies één zo'n drietal. Welke waarden hebben a, b en c dan?\n",
    "2. Verander je algoritme zo dat het *ieder* Pythagorees drietal vindt voor een vrij te kiezen som van a + b + c. Dus als je als som 1000 kiest krijg je het antwoord uit de vorige stap.\n",
    "3. Welke Pythagorese drietallen vind je hiermee voor deze sommen:\n",
    "    - a + b + c = 2288\n",
    "    - a + b + c = 3210\n",
    "4. Bespreek je resultaten met medestudenten en vergelijk jullie aanpak, algoritme en uitkomsten. Welk algoritme is het meest efficiënt (dus gebruikt de minste rekenkracht en tijd om een juist antwoord te vinden)?\n",
    "\n",
    "### Mogelijke uitwerking\n",
    "\n",
    "*TODO*"
   ]
  }
 ],
 "metadata": {
  "kernelspec": {
   "display_name": ".NET (C#)",
   "language": "C#",
   "name": ".net-csharp"
  },
  "language_info": {
   "name": "polyglot-notebook"
  },
  "polyglot_notebook": {
   "kernelInfo": {
    "defaultKernelName": "csharp",
    "items": [
     {
      "aliases": [],
      "languageName": "csharp",
      "name": "csharp"
     }
    ]
   }
  }
 },
 "nbformat": 4,
 "nbformat_minor": 2
}
