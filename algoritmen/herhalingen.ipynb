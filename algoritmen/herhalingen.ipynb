{
 "cells": [
  {
   "cell_type": "markdown",
   "metadata": {},
   "source": [
    "# Algoritmes\n",
    "\n",
    "Een algoritme is een gestructureerde reeks stappen die je volgt om een probleem op te lossen of een taak uit te voeren. Het is als een recept dat je stap voor stap volgt om tot een gewenst resultaat te komen\n",
    "\n",
    "Algoritmen worden overal gebruikt, van simpelweg koken tot complexe computerberekeningen. Denk bijvoorbeeld aan:\n",
    "\n",
    "- Het bakken van een taart\n",
    "- Zoeken naar een woord in een tekstbestand\n",
    "- Sorteren van een lijst met getallen\n",
    "- Het bepalen of een jaar een schrikkeljaar is\n",
    "- Het coderen van een bericht met een geheimschrift\n",
    "\n",
    "Algoritmen zijn hierdoor de basis van computerprogrammering. In een computerprogramma worden de stappen van het algoritme vertaald naar een taal die de computer begrijpt. Zo kan de computer de instructies uitvoeren om het probleem op te lossen of de taak uit te voeren. Daarbij is het belangrijk om de stappen te beschrijven in stappen die een computer ook kan zetten\n",
    "\n"
   ]
  },
  {
   "cell_type": "markdown",
   "metadata": {},
   "source": [
    "## Sequentueel\n",
    "\n",
    "Een sequentieel algoritme is een algoritme dat van voor naar achter uitgevoerd kan worden, waar geen herhalingsstappen of conditionele stappen aanwezig zijn, en dus eigenlijk de simpelste vorm van algoritmes zijn. Een voorbeeld van zo'n algoritme is bijvoorbeeld een cake bakken op recept\n",
    "\n",
    "1. Verwarm de oven voor op 180°C.\n",
    "2. Vet de cakevorm in en bestuif met bloem.\n",
    "3. Meng in een grote kom de bloem, suiker, bakpoeder en zout.\n",
    "4. Voeg de boter (op kamertemperatuur) toe en klop het mengsel tot een lichte en romige massa.\n",
    "5. Voeg de eieren één voor één toe en mix goed na elk ei.\n",
    "6. Voeg vanille suiker of rasp van citroen of sinaasappel toe.\n",
    "7. Voeg een beetje melk toe om het beslag iets te verdunnen.\n",
    "8. Giet het beslag in de voorbereide cakevorm.\n",
    "9. Bak de cake in de voorverwarmde oven gedurende 40-50 minuten, of totdat een satéprikker in het midden er schoon uitkomt.\n",
    "10. Haal de cake uit de oven en laat hem een paar minuten afkoelen in de vorm.\n",
    "11. Stort de cake op een rooster en laat hem volledig afkoelen voordat je hem aansnijdt.\n",
    "\n",
    "Dit is een genummerd stappenplan, en dit stappenplan gaat van stap 1 t/m stap 11, en altijd in die volgorde. Ook worden er geen stappen overgeslagen, dus dit is een sequentueel algoritme. "
   ]
  },
  {
   "cell_type": "markdown",
   "metadata": {},
   "source": [
    "## Flowcharts\n",
    "\n",
    "In de komende weken worden niet alleen sequentuele algoritmes gemaakt, maar ook algoritmes waarin keuzes gemaakt moeten worden, of stappen herhaald moeten worden. Om deze algoritmes te ontwerpen, en deze visueel te maken, worden flowharts gebruikt. Het toont de stappen in het proces in een diagram, met pijlen die de volgorde aangeven. Hierdoor kan een algoritme op een overzichtelijke manier worden weergegeven. Het recept hierboven ziet er als flowchart uit als\n",
    "\n",
    "```mermaid\n",
    "flowchart TD\n",
    "  A[Verwarm de oven voor op 180°C.] --> B\n",
    "  B[Vet de cakevorm in en bestuif met bloem.] --> C\n",
    "  C[Meng in een grote kom de bloem, suiker, bakpoeder en zout.] --> D\n",
    "  D[\"Voeg de boter (op kamertemperatuur) toe en klop het mengsel tot een lichte en romige massa.\"] --> E\n",
    "  E[Voeg de eieren één voor één toe en mix goed na elk ei.] --> F\n",
    "  F[Voeg vanille suiker of rasp van citroen of sinaasappel toe.] --> G\n",
    "  G[Voeg een beetje melk toe om het beslag iets te verdunnen.] --> H\n",
    "  H[Giet het beslag in de voorbereide cakevorm.] --> I\n",
    "  I[Bak de cake in de voorverwarmde oven gedurende 40-50 minuten, of totdat een satéprikker in het midden er schoon uitkomt.] --> J\n",
    "  J[Haal de cake uit de oven en laat hem een paar minuten afkoelen in de vorm.] --> K\n",
    "  K[Stort de cake op een rooster en laat hem volledig afkoelen voordat je hem aansnijdt.]\n",
    "```\n",
    "\n",
    "hierbij kunnen de pijlen gevolgd worden om gemakkelijk van stap naar stap te gaan"
   ]
  },
  {
   "cell_type": "markdown",
   "metadata": {},
   "source": [
    "# Opdrachten"
   ]
  },
  {
   "cell_type": "markdown",
   "metadata": {},
   "source": [
    "## Opdracht 1"
   ]
  }
 ],
 "metadata": {
  "kernelspec": {
   "display_name": ".NET (C#)",
   "language": "C#",
   "name": ".net-csharp"
  },
  "language_info": {
   "name": "polyglot-notebook"
  },
  "polyglot_notebook": {
   "kernelInfo": {
    "defaultKernelName": "csharp",
    "items": [
     {
      "aliases": [],
      "languageName": "csharp",
      "name": "csharp"
     }
    ]
   }
  }
 },
 "nbformat": 4,
 "nbformat_minor": 2
}
