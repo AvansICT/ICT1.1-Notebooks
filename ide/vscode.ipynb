{
 "cells": [
  {
   "cell_type": "markdown",
   "metadata": {},
   "source": [
    "# Visual Studio Code\n",
    "\n",
    "[Visual Studio Code](https://code.visualstudio.com) (VSC) is een lichtgewicht IDE van Microsoft, en geeft door middel van plugins (Extensions) ondersteuning voor veel verschillende manieren van programmeren, in verschillende talen en verschillende projectvormen.\n"
   ]
  },
  {
   "cell_type": "markdown",
   "metadata": {},
   "source": [
    "\n",
    "## Installeren\n",
    "\n",
    "### Download\n",
    "\n",
    "Visual Studio Code is te downloaden van de website: https://code.visualstudio.com/download\n",
    "\n",
    "Er zijn 2 verschillende versies beschikbaar:\n",
    "\n",
    "Een \"User\" versie: https://code.visualstudio.com/sha/download?build=stable&os=win32-x64-user\n",
    "Deze installeert zichzelf alleen voor de huidige gebruiker. Er zijn dan ook geen 'administrator' rechten nodig.\n",
    "\n",
    "En een \"System\"-versie: https://code.visualstudio.com/sha/download?build=stable&os=win32-x64\n",
    "Deze installeert zich voor alle gebruikers van het systeem. Hiervoor zijn wel 'administrator' rechten nodig.\n",
    "\n",
    "### Installatie, eerste start en configuratie\n",
    "\n",
    "Door het gedownloade bestand uit te voeren, wordt de installatie gestart.\n",
    "\n",
    "- License Agreement -> \"I accept the agreement\" -> 'Next'.\n",
    "- Select Start Menu Folder -> 'Next'.\n",
    "- Select Additional Tasks -> Selecteer wat je nog extra gedaan wilt hebben -> 'Next'.\n",
    "- Ready to Install -> 'Install'.\n",
    "- Completing -> Selecteer om VSC te starten -> 'Finish'.\n",
    "\n",
    "Bij de eerste start, zal VSC een welkomsscherm tonen.\n",
    "Hier kun je de editor aanpassen naar je eigen wensen.\n",
    "\n",
    "Onderaan staat een optie die ook wat aandacht nodig heeft:\n",
    "\n",
    "![Opt out Telemetry](VSC-OptOutWarning.png \"Telemetry opt out\")\n",
    "\n",
    "Door op 'opt-out' te klikken kun je 'telemetry' uitzetten. Hiermee voorkom je dat Microsoft data over jouw gebruik van VSC ontvangt.\n",
    "\n",
    "![Telemetry settings](VSC-TelemetrySettings.png \"Telemetry opt settings\")\n",
    "\n"
   ]
  },
  {
   "cell_type": "markdown",
   "metadata": {},
   "source": [
    "## Extensions\n",
    "\n",
    "Met 'Extensions' kun je VSC uitbreiden met bepaalde functionaliteit.\n",
    "Visual Studio Code is redelijk meedenkend en stelt vaak al een 'Extension' voor, mocht hij die missen.\n",
    "\n",
    "Om een 'Extension' te installeren, open je de 'Extension:marketplace'. Dit kan door links onder op het tandwiel te klikken (1) en te kiezen voor \"Extensions\" (2). Je kunt ook \"CTRL+Shift+X\" gebruiken.\n",
    "\n",
    "![Extension Marketplace](VSC-OpenExtensions.png \"Open Extensions Marketplace\")\n",
    "\n",
    "'Extension' hebben allemaal een unieke identifier, waarmee ze vinden zijn.\n",
    "\n",
    "'Extensions' die sowieso handig zijn om te installeren, zijn:\n",
    "\n",
    "- Jupyter (identier: ms-toolsai.jupyter)"
   ]
  },
  {
   "cell_type": "markdown",
   "metadata": {},
   "source": [
    "## Workspaces\n",
    "\n",
    "Visual Studio Code werkt met zogenaamde \"workspaces\", een verzameling van directories (mappen), die geopend zijn in een instantie van VSC.\n",
    "\n",
    "Een workspace kan eigen settings hebben, bijvoorbeeld:\n",
    "- configuratie van Extensions;\n",
    "- configuratie van build, run en debug;\n",
    "\n",
    "Daarnaast wordt ook de staat van geopende bestanden e.d. opgeslagen in een workspace.\n",
    "\n",
    "Voor meer informatie zie: https://code.visualstudio.com/docs/editor/workspaces"
   ]
  },
  {
   "cell_type": "markdown",
   "metadata": {},
   "source": [
    "## Configuratie\n",
    "\n",
    "Visual Studio Code werkt met meerdere \"lagen\" van configuraties:\n",
    "\n",
    "- User settings, zijn voor elke instantie van VSC die je opent. \n",
    "Hierdoor blijft bijvoorbeel de look-and-feel hetzelfde voor elke VSC die je opstart.\n",
    "- Workspace settings, gelden alleen voor die specieke workspace.\n",
    "\n",
    "Een workspace setting kan een User setting overschrijven (alleen in functionaliteit).\n",
    "Dit betekent bijvoorbeeld dat een Extention die codestyle controleert en aanpast, binnen een workspace een andere code-opmaak terug kan geven, dan de gebruiker in \"zijn\" instellingen zou hebben.\n",
    "\n",
    "Workspace settings gaan dus voor op gebruikers instellingen."
   ]
  },
  {
   "cell_type": "markdown",
   "metadata": {},
   "source": [
    "## Visual Studio Hotkeys\n",
    "\n",
    "Binnen Visual Studio Code zijn er ook een heleboel hotkeys gedefineerd. Hiermee kun je, bijna zonder je muist te gebruiken coderen.\n",
    "\n",
    "Een aantal (standaard) handige hotkeys:\n",
    "\n",
    "|Hotkey|Functie|\n",
    "|-----|-------|\n",
    "|\"Ctrl+Shift+X\"|Opent \"Extensions:Marketplace\"|\n",
    "|\"F1\"|\"Show Commands\", geeft je een lijst met beschikbare commando's met zoekoptie|\n",
    "|\"F11\"|Toggled \"Full Screen\"|\n",
    "|\"Ctrl+`\"|Opent een \"commandline\"|\n",
    "|\"Ctrl+=\"|Zoom in|\n",
    "|\"Ctrl+-\"|Zoom out|\n",
    "|\"Ctrl+Numpad5\"|Reset zoom|\n",
    "|\"Ctrl+F\"|Find (in het open bestand)|\n",
    "|\"Ctrl+Shift+F\"|Search (in het project/workspace)|\n",
    "\n",
    "Voor nog veel meer hotkeys, kijk eens [hier](https://code.visualstudio.com/docs/getstarted/keybindings#_default-keyboard-shortcuts).\n",
    "\n",
    "Hotkeys zijn helemaal te configureren naar eigen smaak. Zie hiervoor: https://code.visualstudio.com/docs/getstarted/keybindings\n",
    "\n",
    "\n"
   ]
  },
  {
   "cell_type": "code",
   "execution_count": null,
   "metadata": {
    "dotnet_interactive": {
     "language": "csharp"
    },
    "polyglot_notebook": {
     "kernelName": "csharp"
    }
   },
   "outputs": [],
   "source": []
  }
 ],
 "metadata": {
  "kernelspec": {
   "display_name": ".NET (C#)",
   "language": "C#",
   "name": ".net-csharp"
  },
  "language_info": {
   "name": "polyglot-notebook"
  },
  "polyglot_notebook": {
   "kernelInfo": {
    "defaultKernelName": "csharp",
    "items": [
     {
      "aliases": [],
      "languageName": "csharp",
      "name": "csharp"
     }
    ]
   }
  }
 },
 "nbformat": 4,
 "nbformat_minor": 2
}
