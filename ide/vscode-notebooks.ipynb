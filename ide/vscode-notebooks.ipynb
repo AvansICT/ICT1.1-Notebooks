{
 "cells": [
  {
   "cell_type": "markdown",
   "metadata": {},
   "source": [
    "# Notebooks in Visual Studio Code\n",
    "\n",
    "## De IDE\n",
    "\n",
    "Om code te kunnen schrijven gebruiken we een IDE, een *integrated development environment*. Een IDE is in de basis een tekst-editor, met allerlei functionaliteiten om het programmeren makkelijker te maken. Zo bieden IDEs vaak functionaliteiten voor\n",
    "- Organiseren van bestanden in een project\n",
    "- Syntax highlighting\n",
    "- Code completion\n",
    "- Code analyse\n",
    "- Makkelijk een project kunnen compileren en uitvoeren\n",
    "- Debugging\n",
    "\n",
    "[Visual studio code](https://code.visualstudio.com) is een lichtgewicht IDE van microsoft, en heeft door middel van plugins ondersteuning voor veel verschillende manieren van programmeren, in verschillende talen en verschillende projectvormen.\n",
    "\n",
    "\n",
    "- Wat is Visual Studio Code\n",
    "- Extensions\n",
    "- Notebook - tekst en code gemengd\n",
    "- Schrijven van code\n",
    "- Hotkeys\n",
    "- Verschil met 'normale' C#"
   ]
  },
  {
   "cell_type": "code",
   "execution_count": null,
   "metadata": {
    "dotnet_interactive": {
     "language": "csharp"
    },
    "polyglot_notebook": {
     "kernelName": "csharp"
    }
   },
   "outputs": [],
   "source": []
  }
 ],
 "metadata": {
  "kernelspec": {
   "display_name": ".NET (C#)",
   "language": "C#",
   "name": ".net-csharp"
  },
  "language_info": {
   "name": "polyglot-notebook"
  },
  "polyglot_notebook": {
   "kernelInfo": {
    "defaultKernelName": "csharp",
    "items": [
     {
      "aliases": [],
      "languageName": "csharp",
      "name": "csharp"
     }
    ]
   }
  }
 },
 "nbformat": 4,
 "nbformat_minor": 2
}
