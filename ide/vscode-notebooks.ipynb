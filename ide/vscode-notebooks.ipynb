{
 "cells": [
  {
   "cell_type": "markdown",
   "metadata": {},
   "source": [
    "# Notebooks in Visual Studio Code\n",
    "\n",
    "## De IDE\n",
    "\n",
    "Om code te kunnen schrijven gebruiken we een IDE, een *integrated development environment*. Een IDE is in de basis een tekst-editor, met allerlei functionaliteiten om het programmeren makkelijker te maken. Zo bieden IDEs vaak functionaliteiten voor\n",
    "- Organiseren van bestanden in een project\n",
    "- Syntax highlighting\n",
    "- Code completion\n",
    "- Code analyse\n",
    "- Makkelijk een project kunnen compileren en uitvoeren\n",
    "- Debugging\n",
    "\n",
    "[Visual Studio Code](https://code.visualstudio.com) (VSC) is een lichtgewicht IDE van Microsoft, en geeft door middel van plugins (Extensions) ondersteuning voor veel verschillende manieren van programmeren, in verschillende talen en verschillende projectvormen.\n",
    "\n",
    "## Visual Studio Code installation\n",
    "\n",
    "### Download\n",
    "\n",
    "Visual Studio Code is te downloaden van de website: https://code.visualstudio.com/download\n",
    "\n",
    "Er zijn 2 versies beschikbaar:\n",
    "\n",
    "\"User\" versie: https://code.visualstudio.com/sha/download?build=stable&os=win32-x64-user\n",
    "Deze installeert zichzelf alleen voor de huidige gebruiker. Er zijn dan ook geen 'administrator' rechten nodig.\n",
    "\n",
    "\"System\"-versie: https://code.visualstudio.com/sha/download?build=stable&os=win32-x64\n",
    "Deze installeert zich voor alle gebruikers van het systeem. Hiervoor zijn wel 'administrator' rechten nodig.\n",
    "\n",
    "\n",
    "### Installatie, eerste start en configuratie\n",
    "\n",
    "Door het gedownloade bestand uit te voeren, wordt de installatie gestart.\n",
    "\n",
    "- License Agreement -> \"I accept the agreement\" -> 'Next'.\n",
    "- Select Start Menu Folder -> 'Next'.\n",
    "- Select Additional Tasks -> Selecteer wat je nog extra gedaan wilt hebben -> 'Next'.\n",
    "- Ready to Install -> 'Install'.\n",
    "- Completing -> Selecteer om VSC te starten -> 'Finish'.\n",
    "\n",
    "\n",
    "\n",
    "Bij de eerste start, zal VSC een welkomsscherm tonen.\n",
    "Hier kun je de editor aanpassen naar je eigen wensen.\n",
    "\n",
    "Onderaaan staat een optie die ook wat aandacht nodig heeft:\n",
    "\n",
    "![Opt out Telemetry](VSC-OptOutWarning.png \"Telemetry opt out\")\n",
    "\n",
    "Door op 'opt-out' te klikken kun je 'telemetry' uitzetten. Hiermee voorkom je dat Microsoft data over jouw gebruik van VSC ontvangt.\n",
    "\n",
    "![Telemetry settings](VSC-TelemetrySettings.png \"Telemetry opt settings\")\n",
    "\n",
    "\n",
    "\n",
    "- Wat is Visual Studio Code\n",
    "- Extensions\n",
    "- Notebook - tekst en code gemengd\n",
    "- Schrijven van code\n",
    "- Hotkeys\n",
    "- Verschil met 'normale' C#"
   ]
  },
  {
   "cell_type": "code",
   "execution_count": null,
   "metadata": {
    "dotnet_interactive": {
     "language": "csharp"
    },
    "polyglot_notebook": {
     "kernelName": "csharp"
    }
   },
   "outputs": [],
   "source": []
  }
 ],
 "metadata": {
  "kernelspec": {
   "display_name": ".NET (C#)",
   "language": "C#",
   "name": ".net-csharp"
  },
  "language_info": {
   "name": "polyglot-notebook"
  },
  "polyglot_notebook": {
   "kernelInfo": {
    "defaultKernelName": "csharp",
    "items": [
     {
      "aliases": [],
      "languageName": "csharp",
      "name": "csharp"
     }
    ]
   }
  }
 },
 "nbformat": 4,
 "nbformat_minor": 2
}
