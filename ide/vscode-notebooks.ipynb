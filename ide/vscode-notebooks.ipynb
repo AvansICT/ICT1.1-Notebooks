{
 "cells": [
  {
   "cell_type": "markdown",
   "metadata": {},
   "source": [
    "# Notebooks in Visual Studio Code\n",
    "\n",
    "## De IDE\n",
    "\n",
    "Om code te kunnen schrijven gebruiken we een IDE, een *integrated development environment*. Een IDE is in de basis een tekst-editor, met allerlei functionaliteiten om het programmeren makkelijker te maken. Zo bieden IDEs vaak functionaliteiten voor\n",
    "- Organiseren van bestanden in een project\n",
    "- Syntax highlighting\n",
    "- Code completion\n",
    "- Code analyse\n",
    "- Makkelijk een project kunnen compileren en uitvoeren\n",
    "- Debugging\n",
    "\n",
    "[Visual Studio Code](https://code.visualstudio.com) (VSC) is een lichtgewicht IDE van Microsoft, en geeft door middel van plugins (Extensions) ondersteuning voor veel verschillende manieren van programmeren, in verschillende talen en verschillende projectvormen.\n"
   ]
  },
  {
   "cell_type": "markdown",
   "metadata": {},
   "source": [
    "# TODOs:\n",
    "\n",
    "- Wat is Visual Studio Code\n",
    "- Extensions\n",
    "- Notebook - tekst en code gemengd\n",
    "- Schrijven van code\n",
    "- Hotkeys\n",
    "- Verschil met 'normale' C#"
   ]
  },
  {
   "cell_type": "markdown",
   "metadata": {},
   "source": [
    "## Benodigde Extension\n",
    "\n",
    "polyglot-notebooks (id: ms-dotnettools.dotnet-interactive-vscode)\n",
    "\n",
    "## Benodigde tools\n",
    "\n",
    ".NET SDK Version 8\n",
    "\n",
    "TODO: Installation\n",
    "```\n",
    "winget install Microsoft.DotNet.SDK.8\n",
    "```"
   ]
  }
 ],
 "metadata": {
  "kernelspec": {
   "display_name": ".NET (C#)",
   "language": "C#",
   "name": ".net-csharp"
  },
  "language_info": {
   "name": "polyglot-notebook"
  },
  "polyglot_notebook": {
   "kernelInfo": {
    "defaultKernelName": "csharp",
    "items": [
     {
      "aliases": [],
      "languageName": "csharp",
      "name": "csharp"
     }
    ]
   }
  }
 },
 "nbformat": 4,
 "nbformat_minor": 2
}
