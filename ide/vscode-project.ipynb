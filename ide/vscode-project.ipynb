{
 "cells": [
  {
   "cell_type": "markdown",
   "metadata": {},
   "source": [
    "# Project in Visual Studio Code\n",
    "\n",
    "- Welke extensions nodig\n",
    "- Geschikt voor kleine console-projecten\n",
    "- Projectfiles\n",
    "- Console applicatie\n",
    "- Deployen naar een ander Windows Systeem (zipfile maken)"
   ]
  },
  {
   "cell_type": "markdown",
   "metadata": {},
   "source": [
    "## Benodigdheden\n",
    "\n",
    "Om Visual Studio Code te kunnen gebruiken om C# applicaties te maken, zijn dezelfde tools en Extensions nodig als genoemd bij [Notebooks](https://avansict.github.io/ICT1.1-Notebooks/ide/vscode-notebooks.html#benodigdheden)."
   ]
  },
  {
   "cell_type": "markdown",
   "metadata": {},
   "source": [
    "Volg de volgende stappen om een eerste project te maken:\n",
    "\n",
    "* \"Ctrl+Shift+P\" -> \".NET: New Project...\" -> \"Console App\";\n",
    "* Kies een directory waar je het project wilt opslaan;\n",
    "* Geef het project een naam. Bijvoorbeeld: \"HelloWorld\";\n",
    "* \"Create project\"."
   ]
  },
  {
   "cell_type": "markdown",
   "metadata": {},
   "source": [
    "Als het goed gaat, zie je dit in de \"Explorer\" van VSC:\n",
    "![HelloWorldOverview](VSC-Project-HelloWorldOverview.png \"HelloWorldOverview\")"
   ]
  },
  {
   "cell_type": "markdown",
   "metadata": {},
   "source": [
    "Zoals je ziet is \"HelloWorld\" de hoofd-directory van het project.\n",
    "\n",
    "\"Program.cs\" is het beginpunt van de applicatie. Deze bevat de \"Main\" methode, welke als eerste wordt aangeroepen bij het uitvoeren van het programma.\n",
    "\n",
    "\"HelloWorld.csproj\" is een projectfile met informatie over o.a.:\n",
    "* afhankelijkheden (dependencies);\n",
    "* .NET versies.\n",
    "\n",
    "\"CSharp.sln\" is een bestand dat eigenlijk niet nodig is voor Visual Studio Code, maar voor Visual Studio. Dat is ook een IDE van Microsoft, waar veel meer software ontwikkel hulpmiddelen standaard in verwerkt zijn. Visual Studio Code, is eigenlijk een lichtgewicht editor, uitbreidbaar met allerlei Extensions."
   ]
  }
 ],
 "metadata": {
  "kernelspec": {
   "display_name": ".NET (C#)",
   "language": "C#",
   "name": ".net-csharp"
  },
  "language_info": {
   "name": "polyglot-notebook"
  },
  "polyglot_notebook": {
   "kernelInfo": {
    "defaultKernelName": "csharp",
    "items": [
     {
      "aliases": [],
      "languageName": "csharp",
      "name": "csharp"
     }
    ]
   }
  }
 },
 "nbformat": 4,
 "nbformat_minor": 2
}
