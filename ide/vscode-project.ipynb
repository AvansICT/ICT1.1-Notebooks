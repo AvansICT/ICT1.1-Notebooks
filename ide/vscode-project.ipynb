{
 "cells": [
  {
   "cell_type": "markdown",
   "metadata": {},
   "source": [
    "# Project in Visual Studio Code\n"
   ]
  },
  {
   "cell_type": "markdown",
   "metadata": {},
   "source": [
    "## Benodigdheden\n",
    "\n",
    "Om Visual Studio Code te kunnen gebruiken om C# applicaties te maken, zijn dezelfde tools en Extensions nodig als genoemd bij [Notebooks](https://avansict.github.io/ICT1.1-Notebooks/ide/vscode-notebooks.html#benodigdheden)."
   ]
  },
  {
   "cell_type": "markdown",
   "metadata": {},
   "source": [
    "## Een project voor een Console applicatie maken\n",
    "\n",
    "Een Console applicatie is een programma dat geen grafische interface heeft.\n",
    "Dit soort applicaties wordt doorgaan uitgevoerd op een Command Line Interface (CLI).\n",
    "\n",
    "Om een project voor een C# console applicatie op te zetten, zijn er 2 mogelijkheden:\n",
    "\n",
    "* Middels VSC (incl. grafische interface)\n",
    "* Via een CLI\n",
    "\n",
    "Volg de volgende stappen om een eerste project te maken:\n",
    "\n",
    "* \"Ctrl+Shift+P\" -> \".NET: New Project...\" -> \"Console App\";\n",
    "* Kies een directory waar je het project wilt opslaan;\n",
    "* Geef het project een naam. Bijvoorbeeld: \"HelloWorld\";\n",
    "* \"Create project\".\n",
    "\n",
    "\n",
    "Dit kan ook op een andere \"snellere\" manier:\n",
    "* Open een Command Prompt: \"Win+R\", type \"cmd\" -> Enter. Of open een \"terminal\" in VSC: \"Ctrl+`\"\n",
    "* Ga naar de locatie waar je het project wilt hebben. Bijvoorbeeld:\n",
    "```\n",
    "cd C:\\Users\\%USERNAME%\n",
    "mkdir projects\n",
    "cd projects\n",
    "```\n",
    "* Voer het volgende commando\n",
    "```\n",
    "dotnet new console -n HelloWorld\n",
    "```\n",
    "* Open het project in een nieuw scherm van VSC:\n",
    "```\n",
    "cd HelloWorld\n",
    "code .\n",
    "```"
   ]
  },
  {
   "cell_type": "markdown",
   "metadata": {},
   "source": [
    "Als het goed gaat, zie je dit in de \"Explorer\" van VSC:\n",
    "![HelloWorldOverview](VSC-Project-HelloWorldOverview.png \"HelloWorldOverview\")"
   ]
  },
  {
   "cell_type": "markdown",
   "metadata": {},
   "source": [
    "## Project bestanden\n",
    "\n",
    "Zoals je ziet is \"HelloWorld\" de hoofd-map van het project.\n",
    "\n",
    "\"Program.cs\" is het beginpunt van de applicatie. Deze bevat de \"Main\" methode, welke als eerste wordt aangeroepen bij het uitvoeren van het programma.\n",
    "\n",
    "\"HelloWorld.csproj\" is een projectfile met informatie over o.a.:\n",
    "* afhankelijkheden (dependencies);\n",
    "* .NET versies.\n",
    "\n",
    "\"CSharp.sln\" (of \"HelloWorld.sln\") is een bestand dat eigenlijk niet nodig is voor Visual Studio Code, maar voor Visual Studio. Dat is ook een IDE van Microsoft, waar veel meer software ontwikkel hulpmiddelen standaard in verwerkt zijn. Visual Studio Code, is eigenlijk een lichtgewicht editor, uitbreidbaar met allerlei Extensions."
   ]
  },
  {
   "cell_type": "markdown",
   "metadata": {},
   "source": [
    "## Een project \"bouwen\" en uitvoeren\n",
    "\n",
    "Open het bestand \"Program.cs\" en gebruik \"Ctrl+F5\" om deze code uit te voeren. Alternatief: ![Run](VSC-Project-Run.png \"Run\")\n",
    "\n",
    "Voordat deze code uitgevoerd kan worden, zal Visual Studio Code (eigenlijk de C# Extension) het project \"bouwen\" tot een \"executable\".\n",
    "\n",
    "De 'executable' is te vinden in de \"bin\" map van het project -> \"HelloWorld.exe\"\n",
    "\n",
    "Het uitvoeren betekent niets meer dan dat die 'executable' wordt gestart.\n",
    "\n",
    "\n",
    "\n"
   ]
  },
  {
   "cell_type": "markdown",
   "metadata": {},
   "source": [
    "## Een project bouwen voor een andere PC\n",
    "\n",
    "Soms wil je een applicatie bouwen om je eigen PC maar uitvoeren op een andere PC.\n",
    "\n",
    "Voor het bouwen heb je dan een andere commando nodig:\n",
    "\n",
    "```\n",
    "dotnet publish -r win-x64 --self-contained true\n",
    "```\n",
    "\n",
    "Na het uitvoeren van dit commando, zul je de map \"publish\" vinden onder \"bin\\Release\\net8.0\\win-x64\".\n",
    "\n",
    "Deze \"publish\"-map kun je inpakken (zippen):\n",
    "* Ga met een Windows Explorer (\"Win+E\"), naar de map \"bin\\Release\\net8.0\\win-x64\" onder de map waar je applicatie staat.\n",
    "* Rechter-muisknop -> \"Compress to Zip file\":\n",
    "\n",
    "![CompressToZip](VSC-Project-CompressToZip.png \"Compress to Zip\")\n",
    "* Geef een goede naam (bijvoorbeeld \"HelloWorld.zip\")\n",
    "\n",
    "\n",
    "Om dit bestand uit te voeren op een andere pc, dien je dit zip-bestand te kopiëren naar een andere Windows PC, uitpakken en de \"HelloWorld.exe\" uit te voeren.\n",
    "\n",
    "\n",
    "\n",
    "\n",
    "\n",
    "\n",
    "\n"
   ]
  },
  {
   "cell_type": "markdown",
   "metadata": {},
   "source": [
    "# Opdracht 1\n",
    "\n",
    "Schrijf de \"HelloWorld\" applicatie, open een terminal in VSC en voer de \"Debug\"-versie \"HelloWorld.exe\" uit.\n"
   ]
  },
  {
   "cell_type": "markdown",
   "metadata": {},
   "source": [
    "# Opdracht 2\n",
    "\n",
    "Schrijf een applicatie die een unieke tekst afbeeld.\n",
    "\n",
    "Voer deze uit op een computer van een mede-student. "
   ]
  }
 ],
 "metadata": {
  "kernelspec": {
   "display_name": ".NET (C#)",
   "language": "C#",
   "name": ".net-csharp"
  },
  "language_info": {
   "name": "polyglot-notebook"
  },
  "polyglot_notebook": {
   "kernelInfo": {
    "defaultKernelName": "csharp",
    "items": [
     {
      "aliases": [],
      "languageName": "csharp",
      "name": "csharp"
     }
    ]
   }
  }
 },
 "nbformat": 4,
 "nbformat_minor": 2
}
