{
 "cells": [
  {
   "cell_type": "markdown",
   "metadata": {},
   "source": [
    "# Zoeken\n",
    "Soms wil je graag weten waar een bepaald element zich in een lijst bevindt. Er kunnen verschillende algoritmen worden gebruikt om door een lijst te zoeken. "
   ]
  },
  {
   "cell_type": "markdown",
   "metadata": {},
   "source": [
    "## Lineair zoeken\n",
    "Lineair zoeken betekent dat een lijst element voor element wordt doorlopen totdat het gezochte element is gevonden. Vervolgens wordt de positie van dat element in de lijst teruggegeven. \n",
    "\n",
    "In code zou zo'n zoekfunctie er als volgt uit zien:\n",
    "```csharp\n",
    "int LinearSearch(int[] lijst, int target)\n",
    "{\n",
    "    for (int i = 0; i < lijst.Length; i++)\n",
    "    {\n",
    "        if (lijst[i] == target)\n",
    "        {\n",
    "            return i;\n",
    "        }\n",
    "    }\n",
    "    return -1; // target niet gevonden, dus er wordt een niet-bestaande index teruggegeven\n",
    "}\n",
    "```\n",
    "\n",
    "De methode heeft de lijst nodig en het gezochte element, de target. Vervolgens gaat het alle elementen langs en kijkt of het element in de lijst overeenkomt met de target. Zo ja, wordt de index van dit element teruggegeven. \n",
    "\n",
    "Deze zoekmethode is niet heel efficiënt. Als het element dat je zoekt aan het eind van de lijst staat of er zelfs helemaal niet in zit, moet de for loop alle elementen langs voordat het een resultaat kan geven. Vooral voor grote lijsten kan dit zorgen voor een traag programma. "
   ]
  },
  {
   "cell_type": "markdown",
   "metadata": {},
   "source": [
    "## Binair zoeken\n",
    "Er zijn ook manieren om efficiënter te zoeken dan elk element uit een lijst langs te gaan. Een voorbeeld daarvan is binair zoeken. \n",
    "Binair zoeken kijkt naar het midden van een lijst en bepaalt of een element eerder in de lijst zou moeten voorkomen of juist verderop in de lijst zit. \n",
    "Stel je bijvoorbeeld voor dat je de volgende lijst hebt: \n",
    "```csharp\n",
    "[0, 3, 4, 5, 6, 8, 10, 13, 15, 16, 17]\n",
    "```\n",
    "en je target is 13. \n",
    "De lijst heeft 11 elementen, dus het zoeken begint bij 6e element (met een index van 5):\n",
    "```csharp\n",
    "|               ↓                    |\n",
    "[0, 3, 4, 5, 6, 8, 10, 13, 15, 16, 17]\n",
    "```\n",
    "Het 6e element heeft een waarde van 8. \\\n",
    "13 is groter dan 8, dus de zoekfunctie weet nu dat het element later in de lijst pas zal voorkomen, het hoeft nu alleen nog maar te kijken naar de elementen die na 8 komen:\n",
    "```csharp\n",
    "                  |        ↓         |\n",
    "[0, 3, 4, 5, 6, 8, 10, 13, 15, 16, 17]\n",
    "         ↓\n",
    "[10, 13, 15, 16, 17]\n",
    "```\n",
    "13 is kleiner dan 15, dus nu weet de zoekfunctie dat het naar het stuk van de lijst vóór dit element moet zoeken. \\\n",
    "Er is nu een even aantal aan elementen, dus er is geen duidelijk midden meer. Het hangt een beetje af van je functie hoe dit wordt afgerond. Meestal wordt er gewoon een integer van gemaakt, wat betekent (denk terug aan expressies met getallen) dat het getal naar beneden wordt afgerond:\n",
    "```csharp\n",
    "                  |↓     |\n",
    "[0, 3, 4, 5, 6, 8, 10, 13, 15, 16, 17]\n",
    " ↓\n",
    "[10, 13]\n",
    "```\n",
    "10 is kleiner dan 13, dus die mag er ook af:\n",
    "```csharp\n",
    "                      |↓ |\n",
    "[0, 3, 4, 5, 6, 8, 10, 13, 15, 16, 17]\n",
    " ↓\n",
    "[13]\n",
    "```\n",
    "13 is gelijk aan 13, het element is gevonden! "
   ]
  },
  {
   "cell_type": "markdown",
   "metadata": {},
   "source": [
    "Er is wel een belangrijke voorwaarde waar een lijst aan moet voldoen voordat je binair zoeken kan gebruiken. Bij lineair zoeken maakt de volgorde van elementen niet uit, de functie loopt alle elementen langs, maar bij binair zoeken wordt er niet meer naar alle elementen gekeken. Een lijst moet dus *gesorteerd* zijn voordat je een binair zoekalgoritme kan gebruiken. \n",
    "\n",
    "```csharp\n",
    "int BinarySearch(int[] lijst, int target)\n",
    "{\n",
    "    int left = 0;\n",
    "    int right = lijst.Length - 1;\n",
    "\n",
    "    while (left <= right)\n",
    "    {\n",
    "        int mid = left + (right - left) / 2;\n",
    "\n",
    "        if (lijst[mid] == target)\n",
    "        {\n",
    "            return mid;\n",
    "        }\n",
    "        else if (lijst[mid] < target)\n",
    "        {\n",
    "            left = mid + 1;\n",
    "        }\n",
    "        else\n",
    "        {\n",
    "            right = mid - 1;\n",
    "        }\n",
    "    }\n",
    "\n",
    "    return -1;\n",
    "}\n",
    "```"
   ]
  },
  {
   "cell_type": "code",
   "execution_count": null,
   "metadata": {
    "dotnet_interactive": {
     "language": "csharp"
    },
    "polyglot_notebook": {
     "kernelName": "csharp"
    }
   },
   "outputs": [],
   "source": [
    "\n",
    "Extra uitleg:\n",
    "\n",
    "https://nl.wikipedia.org/wiki/Bisectie"
   ]
  },
  {
   "cell_type": "markdown",
   "metadata": {},
   "source": [
    "# Opdrachten"
   ]
  },
  {
   "cell_type": "markdown",
   "metadata": {},
   "source": [
    "## Opdracht 1\n",
    "Zoeken naar het laatste voorkomen met lineair zoeken"
   ]
  },
  {
   "cell_type": "markdown",
   "metadata": {},
   "source": [
    "## Opdracht 2\n",
    "Zoeken naar het laatste voorkomen met binair zoeken? (als er twee naast elkaar zijn, hoe los je dat op)"
   ]
  }
 ],
 "metadata": {
  "kernelspec": {
   "display_name": ".NET (C#)",
   "language": "C#",
   "name": ".net-csharp"
  },
  "language_info": {
   "name": "polyglot-notebook"
  },
  "polyglot_notebook": {
   "kernelInfo": {
    "defaultKernelName": "csharp",
    "items": [
     {
      "aliases": [],
      "languageName": "csharp",
      "name": "csharp"
     }
    ]
   }
  }
 },
 "nbformat": 4,
 "nbformat_minor": 2
}
