{
 "cells": [
  {
   "cell_type": "markdown",
   "metadata": {},
   "source": [
    "# Lijst-algoritmes\n",
    "\n",
    "- Grootste waarde\n",
    "- Kleinste waarde\n",
    "- Som of product berekenen\n",
    "- Gemiddelde\n",
    "- Ontdubbelen\n",
    "- Lijst omdraaien\n",
    "- Waarde tellen\n",
    "- Verzamelingenleer - operators: union, difference, intersection\n",
    "- Gesorteerde lijsten gesorteerde union\n",
    "- Meest voorkomende naam\n",
    "- Schudden van lijst met kaarten\n",
    "- Controleer of een lijst gesorteerd is"
   ]
  },
  {
   "cell_type": "code",
   "execution_count": null,
   "metadata": {
    "dotnet_interactive": {
     "language": "csharp"
    },
    "polyglot_notebook": {
     "kernelName": "csharp"
    }
   },
   "outputs": [],
   "source": []
  }
 ],
 "metadata": {
  "kernelspec": {
   "display_name": ".NET (C#)",
   "language": "C#",
   "name": ".net-csharp"
  },
  "language_info": {
   "name": "polyglot-notebook"
  },
  "polyglot_notebook": {
   "kernelInfo": {
    "defaultKernelName": "csharp",
    "items": [
     {
      "aliases": [],
      "languageName": "csharp",
      "name": "csharp"
     }
    ]
   }
  }
 },
 "nbformat": 4,
 "nbformat_minor": 2
}
