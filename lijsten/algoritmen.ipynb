{
 "cells": [
  {
   "cell_type": "markdown",
   "metadata": {},
   "source": [
    "# Lijst-algoritmes\n",
    "\n"
   ]
  },
  {
   "cell_type": "markdown",
   "metadata": {},
   "source": [
    "## De lijst der lijsten.\n",
    "Met een tweedimensionale array kun je een tabel van gegevens maken (zie Herhalingsstructuren/Nesting). Het aantal rijen en kolommen moet je dan van tevoren opgeven. Met een lijst kan dat ook. Je kunt het aantal rijen en het aantal kolommen per rij dan gemakkelijk groter of kleiner maken. Hieronder een voorbeeld, waarbij we groepen maken met studentnamen en vervolgens de groepen toevoegen aan een klas."
   ]
  },
  {
   "cell_type": "code",
   "execution_count": null,
   "metadata": {
    "dotnet_interactive": {
     "language": "csharp"
    },
    "polyglot_notebook": {
     "kernelName": "csharp"
    }
   },
   "outputs": [],
   "source": [
    "// we maken een groep aan en voegen studenten toe\n",
    "List<string> groepG1 = new List<string>();\n",
    "groepG1.Add(\"Jan\");\n",
    "groepG1.Add(\"Stan\");\n",
    "groepG1.Add(\"Jarmo\");\n",
    "groepG1.Add(\"Lars\");\n",
    "\n",
    "// we maken nog een groep aan en voegen studenten toe\n",
    "List<string> groepG2 = []; // kortere notatie\n",
    "groepG2.Add(\"Tijl\");\n",
    "groepG2.Add(\"Thijmen\");\n",
    "groepG2.Add(\"Stijn\");\n",
    "groepG2.Add(\"Beatrijs\");\n",
    "\n",
    "// we maken een klas aan en voegen groepen toe\n",
    "List<List<string>> klasG = new List<List<string>>();\n",
    "klasG.Add(groepG1);\n",
    "klasG.Add(groepG2);\n",
    "\n",
    "// De groepen en klas zijn nu dynamisch uitbreidbaar: je kunt eenvoudig meer groepen of studenten per groep toevoegen.\n",
    "\n",
    "// onderstaande code print de groepen van de klas\n",
    "// ga zelf na wat het (afleidbare) type is van de var in elke foreach-loop\n",
    "foreach (var groep in klasG)\n",
    "{\n",
    "    foreach (var student in groep)\n",
    "    {\n",
    "        Console.Write(student + \" \");\n",
    "    }\n",
    "    Console.WriteLine(\"\");\n",
    "}\n",
    "\n",
    "// Console.WriteLine(klasG[0][3]); //om 1 enkele student te printen naar de console\n"
   ]
  },
  {
   "cell_type": "markdown",
   "metadata": {},
   "source": [
    "## Opdracht 1\n",
    "Gegeven is de lijst met energieverbruik per dag voor gas, water en licht. \n",
    "Deze lijst bevat 3 lijsten met per dag het aantal m3, m3 en kWh.\n",
    "Je mag ervan uitgaan, dat  alle elementen beginnen op dezelfde dag.\n",
    "Print het volgende naar de console:\n",
    "\"dag 1: 6,4 m3 gas, 0,4 m3 water,  10,8 kWh elektriciteit\"\n",
    "\"dag 2: 5,4 m3 gas, 0,6 m3 water,  11,8 kWh elektriciteit\"\n",
    "etc."
   ]
  },
  {
   "cell_type": "code",
   "execution_count": null,
   "metadata": {
    "dotnet_interactive": {
     "language": "csharp"
    },
    "polyglot_notebook": {
     "kernelName": "csharp"
    }
   },
   "outputs": [],
   "source": [
    "// Gegeven lijsten voor gas-, water- en elektriciteitsverbruik per dag\n",
    "List<List<double>> verbruikLijsten = [\n",
    "  new List<double> { 6.4, 5.4, 7.2, 6.8, 8.1 }, // Gasverbruik\n",
    "  new List<double> { 0.4, 0.6, 0.5, 0.7, 0.8 }, // Waterverbruik\n",
    "  new List<double> { 10.8, 11.8, 12.5, 13.2, 14.0 } // Elektriciteitsverbruik\n",
    "];\n",
    "\n",
    "// TODO: plaats hier jouw code"
   ]
  }
 ],
 "metadata": {
  "kernelspec": {
   "display_name": ".NET (C#)",
   "language": "C#",
   "name": ".net-csharp"
  },
  "language_info": {
   "name": "polyglot-notebook"
  },
  "polyglot_notebook": {
   "kernelInfo": {
    "defaultKernelName": "csharp",
    "items": [
     {
      "aliases": [],
      "languageName": "csharp",
      "name": "csharp"
     }
    ]
   }
  }
 },
 "nbformat": 4,
 "nbformat_minor": 2
}
