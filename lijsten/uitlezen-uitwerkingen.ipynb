{
 "cells": [
  {
   "cell_type": "markdown",
   "metadata": {},
   "source": [
    "# Opdrachten"
   ]
  },
  {
   "cell_type": "markdown",
   "metadata": {},
   "source": [
    "## Opdracht 1\n",
    "Wat heb ik totaal opgewekt? Maak onderstaande code af:"
   ]
  },
  {
   "cell_type": "code",
   "execution_count": 5,
   "metadata": {
    "dotnet_interactive": {
     "language": "csharp"
    },
    "polyglot_notebook": {
     "kernelName": "csharp"
    }
   },
   "outputs": [
    {
     "name": "stdout",
     "output_type": "stream",
     "text": [
      "De totale profit is: 290\r\n"
     ]
    }
   ],
   "source": [
    "List<int> solarProfits = new List<int>{10, 4, 9, 12, 90, 165};\n",
    "int totalProfit;\n",
    "\n",
    "foreach(int solarProfit in solarProfits)\n",
    "{\n",
    "    totalProfit += solarProfit;\n",
    "}\n",
    "\n",
    "Console.WriteLine($\"De totale profit is: {totalProfit}\");\n"
   ]
  },
  {
   "cell_type": "markdown",
   "metadata": {},
   "source": [
    "## Opdracht 2\n",
    "Wat gebruik ik gemiddeld per week?\n",
    "\n",
    "Je mag er vanuit gaan dat de lijst met SolarProfits altijd een veelvoud van 7 profits heeft. De eerste 7 profits horen bij week 1, de volgende 7 bij week 2 etc.. Stel we krijgen een lijst met 7 dagwaarden, dan bevat de lijst averageSolarProfits 1 waarde die het gemiddelde van de 7 is.\n",
    "Schrijf de code die de lijst solarProfits uitleest, het gemiddelde per 7 dagen berekent en de lijst averageSolarProfits vult."
   ]
  },
  {
   "cell_type": "code",
   "execution_count": null,
   "metadata": {
    "dotnet_interactive": {
     "language": "csharp"
    },
    "polyglot_notebook": {
     "kernelName": "csharp"
    }
   },
   "outputs": [],
   "source": [
    "// Tip: eerst testen met een eenvoudige set. Goed? dan de uitgebreide set uit de opdracht!\n",
    "List<int> solarProfits = new List<int>\n",
    "{\n",
    "    3, 15, 7, 12, 9, 20, 8, 14, 6, 18, 11, 5, 22, 10, 17, 4,\n",
    "    13, 19, 16, 21, 7, 9, 2, 29, 8, 33, 32, 15, 1, 17, 12, 11,\n",
    "    2, 4, 5, 3, 17, 17, 17, 12, 10, 12, 11, 10, 11, 11, 12, 22,\n",
    "    2, 4, 5, 2, 5, 6, 2, 7\n",
    "};\n",
    "List<double> averageSolarProfitWeek = new List<double>();;\n",
    "\n",
    "int weeklyTotal = 0;\n",
    "for (int i = 0; i < solarProfits.Count(); i++)\n",
    "{\n",
    "    weeklyTotal += solarProfits[i];\n",
    "    if ((i + 1) % 7 == 0)\n",
    "    {\n",
    "        averageSolarProfitWeek.Add((double)weeklyTotal / 7);\n",
    "        weeklyTotal = 0;\n",
    "    }\n",
    "}\n",
    "// alleen de laatste week nog!\n",
    "if (solarProfits.Count % 7 != 0)\n",
    "{\n",
    "    averageSolarProfitWeek.Add((double)weeklyTotal / (solarProfits.Count % 7));\n",
    "}\n",
    "\n",
    "\n",
    "for (int x = 0; x < averageSolarProfitWeek.Count(); x++)\n",
    "{\n",
    "    Console.WriteLine($\"Het gemiddelde verbruik van week {x + 1}: {averageSolarProfitWeek[x]}\");\n",
    "}\n"
   ]
  }
 ],
 "metadata": {
  "kernelspec": {
   "display_name": ".NET (C#)",
   "language": "C#",
   "name": ".net-csharp"
  },
  "language_info": {
   "name": "polyglot-notebook"
  },
  "polyglot_notebook": {
   "kernelInfo": {
    "defaultKernelName": "csharp",
    "items": [
     {
      "aliases": [],
      "languageName": "csharp",
      "name": "csharp"
     }
    ]
   }
  }
 },
 "nbformat": 4,
 "nbformat_minor": 2
}
