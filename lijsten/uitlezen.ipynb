{
 "cells": [
  {
   "cell_type": "code",
   "execution_count": 1,
   "metadata": {
    "dotnet_interactive": {
     "language": "csharp"
    },
    "polyglot_notebook": {
     "kernelName": "csharp"
    }
   },
   "outputs": [],
   "source": []
  },
  {
   "cell_type": "markdown",
   "metadata": {},
   "source": [
    "## Uitlezen\n",
    "Soms krijg je een lijst binnen van een externe api. Deze lijst wil je dan uitlezen en weergeven. Een lijst met items kan uitgelezen worden middels een [for-loop](/herhalingsstructuren/for.ipynb) en [foreach](/herhalingsstructuren/foreach.ipynb). Een while-loop kan ook maar wordt niet gezien als best practice.\n",
    "Een voorbeeld van een for-loop implementatie is:  "
   ]
  },
  {
   "cell_type": "code",
   "execution_count": null,
   "metadata": {
    "dotnet_interactive": {
     "language": "csharp"
    },
    "polyglot_notebook": {
     "kernelName": "csharp"
    }
   },
   "outputs": [],
   "source": [
    "List<int> SolarProfits = new List<int>{10, 4, 9, 12, 90, 165};\n",
    "\n",
    "for(int i = 0; i < SolarProfits.Count; i++){\n",
    "    Console.WriteLine(SolarProfits[i]);\n",
    "}"
   ]
  },
  {
   "cell_type": "markdown",
   "metadata": {},
   "source": [
    "Hierboven zetten we i op 0 zodat de for-loop begint bij het eerste item. We willen dat i doorloopt zolang hij kleiner is dan `SolarProfits.Count`. Hier geeft count het aantal items in de lijst aan. Omdat de lijst altijd begint bij index 0, gaan de indexen altijd maar tot `SolarProfits.Count - 1`. Met `SolarProfits[i]` geven we aan welk item uit de lijst we willen. Deze wordt dan naar de Console geschreven.  \n",
    "\n",
    "De foreach-loop implementatie is als volgt:"
   ]
  },
  {
   "cell_type": "code",
   "execution_count": null,
   "metadata": {
    "dotnet_interactive": {
     "language": "csharp"
    },
    "polyglot_notebook": {
     "kernelName": "csharp"
    }
   },
   "outputs": [],
   "source": [
    "List<int> SolarProfits = new List<int>{10, 4, 9, 12, 90, 165};\n",
    "\n",
    "foreach(int profit in SolarProfits){\n",
    "    Console.WriteLine(profit);\n",
    "}"
   ]
  },
  {
   "cell_type": "markdown",
   "metadata": {},
   "source": [
    "Hier lopen we door elk item heen in `SolarProfits` en schrijven we de waarde naar de Console.\n",
    "Indien we een lossen waarde ergens in de lijst willen ophalen (bijv. het derde item in de lijst met antwoord 9), dan doen we dat als volgt:"
   ]
  },
  {
   "cell_type": "code",
   "execution_count": null,
   "metadata": {},
   "outputs": [],
   "source": [
    "List<int> SolarProfits = new List<int>{10, 4, 9, 12, 90, 165};\n",
    "\n",
    "Console.WriteLine(SolarProfits[2]); // index 2 is het derde item in de list\n"
   ]
  }
 ],
 "metadata": {
  "kernelspec": {
   "display_name": ".NET (C#)",
   "language": "C#",
   "name": ".net-csharp"
  },
  "language_info": {
   "name": "polyglot-notebook"
  },
  "polyglot_notebook": {
   "kernelInfo": {
    "defaultKernelName": "csharp",
    "items": [
     {
      "aliases": [],
      "languageName": "csharp",
      "name": "csharp"
     }
    ]
   }
  }
 },
 "nbformat": 4,
 "nbformat_minor": 2
}
