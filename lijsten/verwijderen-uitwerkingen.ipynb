{
 "cells": [
  {
   "cell_type": "markdown",
   "metadata": {},
   "source": [
    "## Opdracht 1\n",
    "Er blijken wat foutieve waarden in een lijst met profits gekomen te zijn. Verwijder alle getallen die groter zijn dan 25 en print daarna het gemiddelde van de lijst. Tip: wellicht moet je iets kopiëren!\n"
   ]
  },
  {
   "cell_type": "code",
   "execution_count": null,
   "metadata": {
    "dotnet_interactive": {
     "language": "csharp"
    },
    "polyglot_notebook": {
     "kernelName": "csharp"
    }
   },
   "outputs": [],
   "source": [
    "//List<int> solarProfits = new List<int>{10, 7, 255, 12, 17, 69, 28, 14, 4, 9, 12, 15, 27, 2};\n",
    "List<int> solarProfits = new List<int>{26, 27, 2, 3}; // Tip: test eerst met een eenvoudige lijst!\n",
    "\n",
    "int totalProfit = 0;\n",
    "List<int> copySolarProfits = new List<int>(solarProfits); // Kopieer de lijst!\n",
    "foreach (int profit in copySolarProfits) \n",
    "{\n",
    "    if (profit > 25) \n",
    "    {\n",
    "        solarProfits.Remove(profit);\n",
    "    } \n",
    "    else\n",
    "    {\n",
    "        totalProfit += profit;\n",
    "    }\n",
    "}\n",
    "\n",
    "Console.WriteLine($\"De gemiddelde profit van {solarProfits.Count} elementen is: {((double)totalProfit / (double)solarProfits.Count):.0} \");\n",
    "\n",
    "// Als hulpmiddel:\n",
    "Console.WriteLine(\"Inhoud originele lijst: \");\n",
    "solarProfits.ForEach(Console.WriteLine); // bekijk ook even de inhoud van de kopie en het origineel\n",
    "Console.WriteLine(\"Inhoud kopie: \");\n",
    "copySolarProfits.ForEach(Console.WriteLine);"
   ]
  },
  {
   "cell_type": "markdown",
   "metadata": {},
   "source": [
    "## Opdracht 2\n",
    "Verwijder alle getallen waarvan de waarde overeenkomt met de index. Houd bij welke je hebt verwijderd. Meld na opschonen het volgende in de console: Er zijn x getallen verwijderd uit de lijst en print de verwijderde getallen en de bijgewerkte originele lijst. Hint: wellicht moet je juist dat wat je niet wil weggooien ook veilig stellen!\n"
   ]
  },
  {
   "cell_type": "code",
   "execution_count": 16,
   "metadata": {
    "dotnet_interactive": {
     "language": "csharp"
    },
    "polyglot_notebook": {
     "kernelName": "csharp"
    }
   },
   "outputs": [
    {
     "name": "stdout",
     "output_type": "stream",
     "text": [
      "Er zijn 6 elementen verwijderd uit de lijst!\n",
      "Verwijderde getallen: 2, 5, 8, 9, 14, 16\n",
      "Bijgewerkte lijst: 10, 2, 5, 17, 28, 14, 12, 15, 27, 2, 17, 21\n"
     ]
    }
   ],
   "source": [
    "List<int> solarProfits = new List<int>{10, 2, 2, 5, 17, 5, 28, 14, 8, 9, 12, 15, 27, 2, 14, 17, 16, 21};\n",
    "List<int> removedSolarProfits = new List<int>();\n",
    "List<int> toBeKeptSolarProfits = new List<int>();\n",
    "\n",
    "// Wat moet ik verwijderen?\n",
    "for (int i = 0; i < solarProfits.Count; i++){\n",
    "    if (i == solarProfits[i]) \n",
    "    {\n",
    "        removedSolarProfits.Add(i);\n",
    "    }\n",
    "    else\n",
    "    {\n",
    "        toBeKeptSolarProfits.Add(solarProfits[i]);\n",
    "    }\n",
    "}\n",
    "\n",
    "// Vanaf nu verder gaan met toBeKeptSolarProfits is ook een prima oplossing! Je negeert dan vanaf hier: solarProfits\n",
    "solarProfits.Clear(); // Maak origineel leeg\n",
    "solarProfits.AddRange(toBeKeptSolarProfits); // En vul met te bewaren items.\n",
    "\n",
    "Console.WriteLine($\"Er zijn {removedSolarProfits.Count} elementen verwijderd uit de lijst!\");\n",
    "Console.WriteLine($\"Verwijderde getallen: {string.Join(\", \", removedSolarProfits)}\");\n",
    "Console.WriteLine($\"Bijgewerkte lijst: {string.Join(\", \", solarProfits)}\");"
   ]
  }
 ],
 "metadata": {
  "kernelspec": {
   "display_name": ".NET (C#)",
   "language": "C#",
   "name": ".net-csharp"
  },
  "language_info": {
   "name": "polyglot-notebook"
  },
  "polyglot_notebook": {
   "kernelInfo": {
    "defaultKernelName": "csharp",
    "items": [
     {
      "aliases": [],
      "languageName": "csharp",
      "name": "csharp"
     }
    ]
   }
  }
 },
 "nbformat": 4,
 "nbformat_minor": 2
}
