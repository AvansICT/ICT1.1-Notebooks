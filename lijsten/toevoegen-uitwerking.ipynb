{
 "cells": [
  {
   "cell_type": "markdown",
   "metadata": {},
   "source": [
    "# Opdrachten"
   ]
  },
  {
   "cell_type": "markdown",
   "metadata": {},
   "source": [
    "## Opdracht 1\n",
    "\n",
    "Maak een programma waarin je een lege lijst van strings aanmaakt.\n",
    "Je vraagt de gebruiker een woord in te voeren en blijft dit net zolang doen tot de gebruiker 'stop' invoert. Zodra de gebruiker dit heeft gedaan laat je alle ingevoerde woorden achter elkaar zien met een spatie tussen de woorden. (Tip: lees eventueel eerst uitlezen even door of maak de opdrachten in 2 delen, eerst toevoegen later inhoud lijst tonen!) "
   ]
  },
  {
   "cell_type": "code",
   "execution_count": null,
   "metadata": {
    "dotnet_interactive": {
     "language": "csharp"
    },
    "polyglot_notebook": {
     "kernelName": "csharp"
    }
   },
   "outputs": [],
   "source": [
    "\n",
    "using Microsoft.DotNet.Interactive;\n",
    "\n",
    "List<string> woordenLijst = []; \n",
    "\n",
    "while (true)\n",
    "{\n",
    "    string woord = await Kernel.GetInputAsync(\"Voer woord in of stop om te stoppen\");\n",
    "    if (woord == \"stop\")\n",
    "    {\n",
    "        break;\n",
    "    }\n",
    "    woordenLijst.Add(woord);\n",
    "}\n",
    "\n",
    "Console.WriteLine(\"De ingevoerde woorden zijn:\");\n",
    "foreach (string woord in woordenLijst) \n",
    "{\n",
    "    Console.Write(woord + ' ');\n",
    "}"
   ]
  },
  {
   "cell_type": "markdown",
   "metadata": {},
   "source": [
    "## Opdracht 2\n",
    "\n",
    "Maak twee lijsten waarin je getallen zonder decimalen kunt opslaan. Ook hier blijf je de gebruiker om getallen vragen totdat 'stop' wordt ingevoerd, in de ene lijst sla je alleen getallen op die zonder rest deelbaar zijn door 5. De overige getallen sla je op in de tweede lijst. Nadat de gebruiker stop heeft ingevoerd toon je: Onder elkaar: 'De veelvouden van vijf zijn: - de getallen naast elkaar met een spatie -'  en vervolgens: 'De overige ingevoerde getallen zijn: - de getallen naast elkaar met ene spatie -' "
   ]
  },
  {
   "cell_type": "code",
   "execution_count": null,
   "metadata": {
    "dotnet_interactive": {
     "language": "csharp"
    },
    "polyglot_notebook": {
     "kernelName": "csharp"
    }
   },
   "outputs": [],
   "source": [
    "// using niet nodig omdat notebook onder water 1 cs file is.\n",
    "\n",
    "List<int> deelbaarDoorVijf = [];\n",
    "List<int> nietDeelbaarDoorVijf = [];\n",
    "\n",
    "while (true)\n",
    "{\n",
    "    string woord = await Kernel.GetInputAsync(\"Voer getal in of stop om te stoppen\");\n",
    "    if (woord == \"stop\")\n",
    "    {\n",
    "        break;\n",
    "    }\n",
    "    // nu gaan we er vanuit dat we met een getal te maken hebben!\n",
    "    int getal = int.Parse(woord);\n",
    "    if (getal % 5 == 0)\n",
    "    {\n",
    "        deelbaarDoorVijf.Add(getal);\n",
    "    } \n",
    "    else\n",
    "    {\n",
    "        nietDeelbaarDoorVijf.Add(getal);\n",
    "    }\n",
    "}\n",
    "\n",
    "Console.Write(\"De veelvouden van 5 zijn: - \");\n",
    "foreach (int g in deelbaarDoorVijf)\n",
    "{\n",
    "    Console.Write(g + \" \");\n",
    "}\n",
    "Console.WriteLine(\" - \");\n",
    "\n",
    "Console.Write(\"De overige ingevoerde getallen zijn: - \");\n",
    "foreach (int h in nietDeelbaarDoorVijf)\n",
    "{\n",
    "    Console.Write(h + \" \");\n",
    "}\n",
    "Console.WriteLine(\" - \");"
   ]
  }
 ],
 "metadata": {
  "kernelspec": {
   "display_name": ".NET (C#)",
   "language": "C#",
   "name": ".net-csharp"
  },
  "language_info": {
   "name": "polyglot-notebook"
  },
  "polyglot_notebook": {
   "kernelInfo": {
    "defaultKernelName": "csharp",
    "items": [
     {
      "aliases": [],
      "languageName": "csharp",
      "name": "csharp"
     }
    ]
   }
  }
 },
 "nbformat": 4,
 "nbformat_minor": 2
}
