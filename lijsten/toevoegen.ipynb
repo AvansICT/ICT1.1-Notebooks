{
 "cells": [
  {
   "cell_type": "markdown",
   "metadata": {},
   "source": [
    "# Lijsten\n",
    "Binnen c-sharp hebben we ook een datatype dat lijsten heet. Een lijst is een verzameling van elementen die je kan toevoegen, verwijderen en aanpassen. Een lijst is een dynamische datastructuur, wat betekent dat je de grootte van de lijst niet op voorhand moet bepalen. Je kan elementen toevoegen en verwijderen wanneer je wil. \n",
    "\n",
    "## Initialisatie\n",
    "Je initialiseert een lijst in c# als volgt:\n",
    "`List<T> variableName = new List<T>(){}`\n",
    "Hierin kan in essentie <T> elke soort datatype zijn. Onthoudt dat een for/foreach/while en methode niet op de plek van T kunnen worden gezet. Voor nu houden we ons vooral bezig met string en int. Andere datatypes zijn buiten scope.\n",
    "Zeg dat we een lijst met int hebben die opbrengst van de zonnepanelen per min in wattuur aangeven. Dat zal als volgt eruitzien:\n",
    "`List<int> SolarProfits = new List<int>{10, 4, 9, 12, 90, 165}`\n",
    "\n",
    "## Toevoegen\n",
    "Om nieuwe opbrengsten toe te voegen aan de boven gegeven lijst. Kunnen we gebruik maken van de `List<T>.Add(T item)` methode. Met deze methode kunnen we 1 item per keer toevoegen aan de lijst. Gegeven SolarProfits hierboven voegen we zo extra items toe:"
   ]
  },
  {
   "cell_type": "code",
   "execution_count": null,
   "metadata": {
    "dotnet_interactive": {
     "language": "csharp"
    },
    "polyglot_notebook": {
     "kernelName": "csharp"
    }
   },
   "outputs": [],
   "source": [
    "List<int> SolarProfits = new List<int>{10, 4, 9, 12, 90, 165};\n",
    "\n",
    "SolarProfits.Add(100);\n",
    "SolarProfits.Add(12);\n",
    "SolarProfits.Add(1000);\n",
    "SolarProfits.Add(29);\n"
   ]
  },
  {
   "cell_type": "markdown",
   "metadata": {},
   "source": [
    "## Verwijderen \n",
    "Als we items kunnen toevoegen moeten we ook items kunnen verwijderen. Dit kunnen we met de methoden `List<T>.Remove(T item)`. Deze methode verwijdert het eerste item in de lijst die overeenkomt met wat je meegeeft als parameter. De return waarde van de methode is een boolean. Die aangeeft of verwijderen is geslaagd(true) of niet(false).\n",
    "Een voorbeeld aan de hand van SolarProfits:"
   ]
  },
  {
   "cell_type": "code",
   "execution_count": null,
   "metadata": {
    "dotnet_interactive": {
     "language": "csharp"
    },
    "polyglot_notebook": {
     "kernelName": "csharp"
    }
   },
   "outputs": [],
   "source": [
    "List<int> SolarProfits = new List<int>{10, 4, 9, 12, 90, 165};\n",
    "\n",
    "SolarProfits.Remove(10)"
   ]
  },
  {
   "cell_type": "markdown",
   "metadata": {},
   "source": [
    "Als we meerdere dubbele getallen/strings hebben. Dan moeten we meerdere keren `Remove()` aanroepen. Maar als we een specifiek item uit de lijst willen verwijderen kunnen we `List<T>.RemoveAt(int index)` gebruiken. \n",
    "### Wat is een index? \n",
    "Elk item in de lijst bevind zich op een bepaalde plek in de lijst. Het eerste item in de lijst krijgt de plek 0. Deze plekken worden ook wel indexen genoemd en zijn oplopend(0,1,2,3,4,..,1000, etc). Er kunnen geen negatieve indexen voorkomen in een lijst. Dus in geval van SolarProfits is het dan:\n",
    "| index         | item     |\n",
    "|--------------|-----------|\n",
    "| 0            | 10        |\n",
    "| 1            | 4         |\n",
    "| 2            | 9         |\n",
    "| 3            | 12        | \n",
    "| 4            | 90        |\n",
    "| 5            | 165       | \n",
    "\n",
    "We gooien het item 90 weg door index 4 mee te geven als parameter aan `RemoveAt`:"
   ]
  },
  {
   "cell_type": "code",
   "execution_count": null,
   "metadata": {
    "dotnet_interactive": {
     "language": "csharp"
    },
    "polyglot_notebook": {
     "kernelName": "csharp"
    }
   },
   "outputs": [],
   "source": [
    "List<int> SolarProfits = new List<int>{10, 4, 9, 12, 90, 165};\n",
    "\n",
    "SolarProfits.RemoveAt(4)"
   ]
  },
  {
   "cell_type": "markdown",
   "metadata": {},
   "source": [
    "## Wijzigen \n",
    "Nu we kunnen verwijderen kan het voorkomen dat we juist iets willen wijzigen. Hiervoor gebruiken we de index en variabele assignment om de waarde aan te passen. De short-hand voor wijzigen is `lijstnaam[index] = waarde`. Een voorbeeld hoe we 12 wijzigen naar 25:"
   ]
  },
  {
   "cell_type": "code",
   "execution_count": null,
   "metadata": {},
   "outputs": [],
   "source": [
    "List<int> SolarProfits = new List<int>{10, 4, 9, 12, 90, 165};\n",
    "\n",
    "SolarProfits[3] = 25;"
   ]
  },
  {
   "cell_type": "markdown",
   "metadata": {},
   "source": [
    "## Uitlezen\n",
    "Soms krijg je een lijst binnen van een externe api. Deze lijst wil je dan uitlezen en weergeven. Een lijst met items kan uitgelezen worden middels een [for-loop](/herhalingsstructuren/for.ipynb) en [foreach](/herhalingsstructuren/foreach.ipynb). Een while-loop kan ook maar wordt niet gezien als best practice.\n",
    "Een voorbeeld van een for-loop implementatie is:  "
   ]
  },
  {
   "cell_type": "code",
   "execution_count": null,
   "metadata": {},
   "outputs": [],
   "source": [
    "List<int> SolarProfits = new List<int>{10, 4, 9, 12, 90, 165};\n",
    "\n",
    "for(int i = 0; i < SolarProfits.Count; i++){\n",
    "    Console.WriteLine(SolarProfits[i]);\n",
    "}"
   ]
  },
  {
   "cell_type": "markdown",
   "metadata": {},
   "source": [
    "Hierboven zetten we i op 0 zodat de for-loop begint bij het eerste item. We willen dat i doorloopt zolang hij kleiner is dan `SolarProfits.Count`. Hier geeft count het aantal items in de lijst aan. Omdat de lijst begint bij 0. Is er altijd gaan de indexen altijd maar tot `SolarProfits.Count - 1`. Met `SolarProfits[i]` geven we aan welk item uit de lijst we willen. Deze wordt dan naar de Console geschreven.  \n",
    "\n",
    "De foreach-loop implementatie is als volgt:"
   ]
  },
  {
   "cell_type": "code",
   "execution_count": null,
   "metadata": {},
   "outputs": [],
   "source": [
    "List<int> SolarProfits = new List<int>{10, 4, 9, 12, 90, 165};\n",
    "\n",
    "foreach(int profit in SolarProfits){\n",
    "    Console.WriteLine(profit);\n",
    "}"
   ]
  },
  {
   "cell_type": "markdown",
   "metadata": {},
   "source": [
    "Hier lopen we door elk item heen in `SolarProfits` en schrijven we de waarde naar de Console.\n",
    "\n",
    "## Opdracht Gasmeter\n",
    "Voor onze baan bij een energie bedrijf zijn we thuis een gasmeter aan het maken.\n",
    "We hebben de gasconsumptie van ons huis van de afgelopen 10 dagen: "
   ]
  },
  {
   "cell_type": "code",
   "execution_count": null,
   "metadata": {},
   "outputs": [],
   "source": [
    " List<double> gasConsumptionList = new List<double>\n",
    "        {\n",
    "            10.5,\n",
    "            9.8,\n",
    "            8.7,\n",
    "            7.9,\n",
    "            6.5,\n",
    "            5.2,\n",
    "            4.8,\n",
    "            4.3,\n",
    "            5.0,\n",
    "            6.1\n",
    "        };"
   ]
  },
  {
   "cell_type": "code",
   "execution_count": null,
   "metadata": {},
   "outputs": [],
   "source": [
    "Morgen slapen er 4 mensen in je huis. Hierdoor stijgt de gasconsumptie voor de volgende dag naar 40.5 kuub. Voeg deze waarde toe aan de lijst."
   ]
  },
  {
   "cell_type": "code",
   "execution_count": null,
   "metadata": {},
   "outputs": [],
   "source": []
  },
  {
   "cell_type": "markdown",
   "metadata": {},
   "source": [
    "Helaas blijkt dat onze gasmeter maar 10 waardes kan onthouden in zijn geheugen. Verwijder nu het item dat op index 0 staat."
   ]
  },
  {
   "cell_type": "code",
   "execution_count": null,
   "metadata": {},
   "outputs": [],
   "source": []
  },
  {
   "cell_type": "markdown",
   "metadata": {},
   "source": [
    "De gasmeter heeft een knop. Hiermee worden de waardes in geheugen op een display getoond. Maak een methode die dit mogelijk maakt. Gebruik hiervoor console.WriteLine."
   ]
  },
  {
   "cell_type": "code",
   "execution_count": null,
   "metadata": {},
   "outputs": [],
   "source": []
  },
  {
   "cell_type": "markdown",
   "metadata": {},
   "source": [
    "Door een simpele upgrade van de meter kunnen er opeen oneindig veel waardes in. Echter moet nu een gedeelte van de historie terug gezet worden in de lijst. Hou reken ermee dat de historie dus moet beginnen op index 0. "
   ]
  },
  {
   "cell_type": "code",
   "execution_count": null,
   "metadata": {},
   "outputs": [],
   "source": [
    "List<double> gasConsumptionHistory = new List<double>\n",
    "        {\n",
    "            39.2,  \n",
    "            35.8,  \n",
    "            32.6, \n",
    "            29.3,  \n",
    "            24.7,  \n",
    "            23.1,  \n",
    "            21.8,  \n",
    "            23.9,  \n",
    "        };"
   ]
  }
 ],
 "metadata": {
  "kernelspec": {
   "display_name": ".NET (C#)",
   "language": "C#",
   "name": ".net-csharp"
  },
  "language_info": {
   "name": "polyglot-notebook"
  },
  "polyglot_notebook": {
   "kernelInfo": {
    "defaultKernelName": "csharp",
    "items": [
     {
      "aliases": [],
      "languageName": "csharp",
      "name": "csharp"
     }
    ]
   }
  }
 },
 "nbformat": 4,
 "nbformat_minor": 2
}
