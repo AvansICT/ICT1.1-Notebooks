{
 "cells": [
  {
   "cell_type": "markdown",
   "metadata": {},
   "source": [
    "# Lijsten\n",
    "Binnen c-sharp hebben we ook een datatype dat lijsten heet. Een lijst is een verzameling van elementen die je kan toevoegen, verwijderen en aanpassen. Een lijst is een dynamische datastructuur, wat betekent dat je de grootte van de lijst niet op voorhand moet bepalen. Je kan elementen toevoegen en verwijderen wanneer je wil. \n",
    "\n",
    "## Initialisatie\n",
    "Je initialiseert een lijst in c# als volgt:\n",
    "`List<T> variableName = new List<T>(){}`\n",
    "Hierin kan in essentie <T> elke soort datatype zijn. Onthoudt dat een for/foreach/while en methode niet op de plek van T kunnen worden gezet. Voor nu houden we ons vooral bezig met string en int. Andere datatypes zijn buiten scope.\n",
    "Zeg dat we een lijst met int hebben die opbrengst van de zonnepanelen per min in wattuur aangeven. Dat zal als volgt eruitzien:\n",
    "`List<int> SolarProfits = new List<int>{10, 4, 9, 12, 90, 165}`\n",
    "\n",
    "Een lege lijst aanmaken kan uiteraard ook door:\n",
    "`List<int> SolarProfits = new List<int>(); (Nieuwe schrijfwijze: List<int> SolarProfits = [];)`\n"
   ]
  },
  {
   "cell_type": "markdown",
   "metadata": {},
   "source": [
    "## Toevoegen\n",
    "Om nieuwe opbrengsten toe te voegen aan een lijst, kunnen we gebruik maken van de `List<T>.Add(T item)` methode. Met deze methode kunnen we 1 item per keer toevoegen aan de lijst. Gegeven SolarProfits hierboven voegen we zo extra items toe:"
   ]
  },
  {
   "cell_type": "code",
   "execution_count": null,
   "metadata": {
    "dotnet_interactive": {
     "language": "csharp"
    },
    "polyglot_notebook": {
     "kernelName": "csharp"
    }
   },
   "outputs": [],
   "source": [
    "List<int> SolarProfits = new List<int>{10, 4, 9, 12, 90, 165};\n",
    "\n",
    "SolarProfits.Add(100);\n",
    "SolarProfits.Add(12);\n",
    "SolarProfits.Add(1000);\n",
    "SolarProfits.Add(29);\n"
   ]
  }
 ],
 "metadata": {
  "kernelspec": {
   "display_name": ".NET (C#)",
   "language": "C#",
   "name": ".net-csharp"
  },
  "language_info": {
   "name": "polyglot-notebook"
  },
  "polyglot_notebook": {
   "kernelInfo": {
    "defaultKernelName": "csharp",
    "items": [
     {
      "aliases": [],
      "languageName": "csharp",
      "name": "csharp"
     }
    ]
   }
  }
 },
 "nbformat": 4,
 "nbformat_minor": 2
}
