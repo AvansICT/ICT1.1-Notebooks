{
 "cells": [
  {
   "cell_type": "markdown",
   "metadata": {},
   "source": [
    "# Lijsten\n",
    "Binnen c-sharp hebben we ook een datatype dat lijsten heet. Een lijst is een verzameling van elementen die je kan toevoegen, verwijderen en aanpassen. Een lijst is een dynamische datastructuur, wat betekent dat je de grootte van de lijst niet op voorhand moet bepalen. Je kan elementen toevoegen en verwijderen wanneer je wil. \n",
    "\n",
    "## Initialisatie\n",
    "Je definieert/initialiseert een lijst in c# als volgt:\n",
    "`List<T> variableName = new List<T>(){}`\n",
    "Hierin kan in essentie <T> elke soort data-type zijn. Onthou wel dat een for/foreach/while en methode dit niet op de plek van T kunnen. Voor nu houden we ons vooral bezig met string en int. Andere datatypes zijn buiten scope.\n",
    "Zeg dat we een lijst met int hebben die opbrengst van de zonnenpanelen per min in watt uur aangeven. Dat zal als volgt eruit zien:\n",
    "`List<int> SolarProfits = new List<int>{10, 4, 9, 12, 90, 165}`\n",
    "\n",
    "## Toevoegen\n",
    "Om nieuwe opbrengsten toe te voegen aan de boven gegeven lijst. Kunnen we gebruik maken van de `List<T>.Add(T item)` methode. Met deze methode kunnen we 1 item per keer toevoegen aan de lijst. Gegeven SolarProfits hierboven voegen we zo extra items toe:"
   ]
  },
  {
   "cell_type": "code",
   "execution_count": null,
   "metadata": {},
   "outputs": [],
   "source": [
    "List<int> SolarProfits = new List<int>{10, 4, 9, 12, 90, 165};\n",
    "\n",
    "SolarProfits.Add(100);\n",
    "SolarProfits.Add(12);\n",
    "SolarProfits.Add(1000);\n",
    "SolarProfits.Add(29);\n"
   ]
  },
  {
   "cell_type": "markdown",
   "metadata": {},
   "source": [
    "## Verwijderen \n",
    "Als we items kunnen toevoegen moeten we ook items kunnen verwijderen. Dit kunnen we met de methoden `List<T>.Remove(T item)`. Deze verwijderd het eerste item in de lijst die overeenkomt met wat je meegeeft. De return waarde van de methode is een boolean. Die aangeeft of verwijderen geslaagd is of niet.\n",
    "Een voorbeeld aan de hand van SolarProfits:"
   ]
  },
  {
   "cell_type": "code",
   "execution_count": null,
   "metadata": {},
   "outputs": [],
   "source": [
    "List<int> SolarProfits = new List<int>{10, 4, 9, 12, 90, 165};\n",
    "\n",
    "SolarProfits.Remove(10)"
   ]
  },
  {
   "cell_type": "markdown",
   "metadata": {},
   "source": [
    "Je kan hierboven uit opmaken dat als we meerdere dubbele getallen/strings hebben. Dat we dan meerdere keren de `Remove()` methoden moeten aanroepen. Maar als we een specifiek item uit de lijst willen verwijderen kunnen we `List<T>.RemoveAt(int index)` gebruiken. \n",
    "### Wat is nou een index? \n",
    "Je moet je voorstellen dat elk item in de lijst zich op een bepaalde plek bevind in die lijst. Het eerste item in de lijst krijgt plek 0. Deze plekken worden ook wel indexen genoemd en zijn oplopend(0,1,2,3,4,..,1000, etc). Je kan dus geen negatieve indexen hebben in de lijst zelf. Soms accepteren lijst methodes dit wel, maar zit daar een ander resultat achter dan je denkt. Dat is voor nu even buiten Scope. Dus we beginnen met tellen altijd bij 0. Dus in geval van SolarProfits is het dan:\n",
    "| index         | item     |\n",
    "|--------------|-----------|\n",
    "| 0            | 10        |\n",
    "| 1            | 4         | \n",
    "| 2            | 9         |\n",
    "| 3            | 12        | \n",
    "| 4            | 90        |\n",
    "| 5            | 165       | \n",
    "\n",
    "Als wij nu het item 90 willen weggooien kunnen we dat doen door index 4 mee te geven aan `RemoveAt`. Dat doen we dan als volgt:"
   ]
  },
  {
   "cell_type": "code",
   "execution_count": null,
   "metadata": {},
   "outputs": [],
   "source": [
    "List<int> SolarProfits = new List<int>{10, 4, 9, 12, 90, 165};\n",
    "\n",
    "SolarProfits.RemoveAt(4)"
   ]
  },
  {
   "cell_type": "markdown",
   "metadata": {},
   "source": [
    "## Wijzigen \n",
    "\n",
    "\n",
    "## Uitlezen\n",
    "Nu we w\n",
    "\n",
    "## Extra\n",
    "Korte uitleg video over lijsten(in de video gebruiken ze objecten en classes, voor nu buiten scope)"
   ]
  }
 ],
 "metadata": {
  "kernelspec": {
   "display_name": ".NET (C#)",
   "language": "C#",
   "name": ".net-csharp"
  },
  "language_info": {
   "name": "polyglot-notebook"
  },
  "polyglot_notebook": {
   "kernelInfo": {
    "defaultKernelName": "csharp",
    "items": [
     {
      "aliases": [],
      "languageName": "csharp",
      "name": "csharp"
     }
    ]
   }
  }
 },
 "nbformat": 4,
 "nbformat_minor": 2
}
